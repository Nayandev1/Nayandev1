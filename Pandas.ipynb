{
 "cells": [
  {
   "cell_type": "code",
   "execution_count": 1,
   "metadata": {},
   "outputs": [],
   "source": [
    "#pandas"
   ]
  },
  {
   "cell_type": "code",
   "execution_count": null,
   "metadata": {},
   "outputs": [],
   "source": [
    "dict\n",
    " \n",
    "    \n",
    "    \n",
    "keys value Pairs\n",
    "\n",
    "id=\n",
    "name=\n",
    "email=\n",
    "\n",
    "\n",
    "matplotlib = plots\n",
    "seaborne = plots\n",
    "pandas = data manipulation"
   ]
  },
  {
   "cell_type": "code",
   "execution_count": 3,
   "metadata": {},
   "outputs": [],
   "source": [
    "#series and dataframe"
   ]
  },
  {
   "cell_type": "code",
   "execution_count": null,
   "metadata": {},
   "outputs": [],
   "source": [
    "import pandas as pd"
   ]
  },
  {
   "cell_type": "code",
   "execution_count": 11,
   "metadata": {},
   "outputs": [
    {
     "name": "stdout",
     "output_type": "stream",
     "text": [
      "0     7\n",
      "1    71\n",
      "2     8\n",
      "3     9\n",
      "4    10\n",
      "5    11\n",
      "dtype: int64\n",
      "<class 'pandas.core.series.Series'>\n"
     ]
    }
   ],
   "source": [
    "import pandas as pd\n",
    "num=pd.Series([7,71,8,9,10,11])\n",
    "print(num)\n",
    "print(type(num))"
   ]
  },
  {
   "cell_type": "code",
   "execution_count": 10,
   "metadata": {},
   "outputs": [
    {
     "name": "stdout",
     "output_type": "stream",
     "text": [
      "0    a\n",
      "1    b\n",
      "2    c\n",
      "3    d\n",
      "4    7\n",
      "dtype: object\n",
      "<class 'pandas.core.series.Series'>\n"
     ]
    }
   ],
   "source": [
    "import pandas as pd\n",
    "char=pd.Series(['a','b','c','d',7])\n",
    "print(char)\n",
    "print(type(char))"
   ]
  },
  {
   "cell_type": "code",
   "execution_count": 14,
   "metadata": {},
   "outputs": [
    {
     "name": "stdout",
     "output_type": "stream",
     "text": [
      "DatetimeIndex(['2021-07-21', '2021-07-22', '2021-07-23', '2021-07-24',\n",
      "               '2021-07-25', '2021-07-26', '2021-07-27', '2021-07-28',\n",
      "               '2021-07-29', '2021-07-30'],\n",
      "              dtype='datetime64[ns]', freq='D') <class 'pandas.core.indexes.datetimes.DatetimeIndex'>\n"
     ]
    }
   ],
   "source": [
    "date=pd.date_range(start='21-07-2021',end='30-7-2021')\n",
    "print(date,type(date))"
   ]
  },
  {
   "cell_type": "code",
   "execution_count": 26,
   "metadata": {},
   "outputs": [
    {
     "name": "stdout",
     "output_type": "stream",
     "text": [
      "DatetimeIndex(['2021-01-01', '2021-01-02', '2021-01-03', '2021-01-04'], dtype='datetime64[ns]', freq='D')\n"
     ]
    }
   ],
   "source": [
    "import pandas as pd\n",
    "date1=pd.date_range(start='1-01-2021',end='1-04-2021')\n",
    "print(date1)"
   ]
  },
  {
   "cell_type": "code",
   "execution_count": 15,
   "metadata": {},
   "outputs": [],
   "source": [
    "#Data frames"
   ]
  },
  {
   "cell_type": "code",
   "execution_count": 28,
   "metadata": {
    "scrolled": true
   },
   "outputs": [
    {
     "name": "stdout",
     "output_type": "stream",
     "text": [
      "  Month  Temp\n",
      "0   jan    25\n",
      "1   feb    23\n",
      "2   mar    45\n"
     ]
    }
   ],
   "source": [
    "df=pd.DataFrame({'Month':['jan','feb','mar'],\n",
    "                   'Temp': [25,23,45]})\n",
    "print(df)"
   ]
  },
  {
   "cell_type": "code",
   "execution_count": 14,
   "metadata": {},
   "outputs": [
    {
     "name": "stdout",
     "output_type": "stream",
     "text": [
      "  Month  Temp\n",
      "0   jan    25\n",
      "1   feb    23\n",
      "2   mar    45\n",
      "mar 45\n"
     ]
    }
   ],
   "source": [
    "import pandas as pd\n",
    "df=pd.DataFrame({'Month':['jan','feb','mar'],\n",
    "                   'Temp': [25,23,45]})\n",
    "df['Month']\n",
    "print(df)\n",
    "print(df['Month'][2],df['Temp'][2])"
   ]
  },
  {
   "cell_type": "code",
   "execution_count": 30,
   "metadata": {},
   "outputs": [
    {
     "name": "stdout",
     "output_type": "stream",
     "text": [
      "     Month  Temp\n",
      "0      jan    25\n",
      "1      feb    23\n",
      "2      mar    45\n",
      "<bound method NDFrame.head of      Month  Temp\n",
      "0      jan    25\n",
      "1      feb    23\n",
      "2      mar    45>\n",
      "<bound method NDFrame.tail of      Month  Temp\n",
      "0      jan    25\n",
      "1      feb    23\n",
      "2      mar    45>\n",
      "<bound method DataFrame.info of      Month  Temp\n",
      "0      jan    25\n",
      "1      feb    23\n",
      "2      mar    45>\n",
      "<bound method NDFrame.describe of      Month  Temp\n",
      "0      jan    25\n",
      "1      feb    23\n",
      "2      mar    45>\n",
      "Index(['   Month  Temp'], dtype='object')\n",
      "(3, 1)\n",
      "[['   jan    25']\n",
      " ['   feb    23']\n",
      " ['   mar    45']]\n"
     ]
    }
   ],
   "source": [
    "import pandas as pd\n",
    "sample=pd.read_csv(r\"C:\\Users\\Admin\\Desktop\\pavan\\Ignited tech\\simple.csv\")\n",
    "print(sample)\n",
    "print(sample.head)\n",
    "print(sample.tail)\n",
    "print(sample.info)\n",
    "print(sample.describe)\n",
    "print(sample.columns)\n",
    "print(sample.shape)\n",
    "print(sample.values)"
   ]
  },
  {
   "cell_type": "code",
   "execution_count": 1,
   "metadata": {},
   "outputs": [],
   "source": [
    "import pandas as pd"
   ]
  },
  {
   "cell_type": "code",
   "execution_count": 2,
   "metadata": {},
   "outputs": [
    {
     "name": "stdout",
     "output_type": "stream",
     "text": [
      "0    1.1\n",
      "1    2.0\n",
      "2    3.0\n",
      "3    4.0\n",
      "dtype: float64\n"
     ]
    }
   ],
   "source": [
    "t=pd.Series([1.1,2,3,4])\n",
    "print(t)"
   ]
  },
  {
   "cell_type": "code",
   "execution_count": 3,
   "metadata": {},
   "outputs": [
    {
     "name": "stdout",
     "output_type": "stream",
     "text": [
      "1.1\n",
      "2.0\n",
      "3.0\n",
      "4.0\n"
     ]
    }
   ],
   "source": [
    "for i in t.values:\n",
    "    print(i)"
   ]
  },
  {
   "cell_type": "code",
   "execution_count": 4,
   "metadata": {},
   "outputs": [
    {
     "name": "stdout",
     "output_type": "stream",
     "text": [
      "0\n",
      "1\n",
      "2\n",
      "3\n"
     ]
    }
   ],
   "source": [
    "for i in t.index:\n",
    "    print(i)"
   ]
  },
  {
   "cell_type": "code",
   "execution_count": 5,
   "metadata": {},
   "outputs": [
    {
     "name": "stdout",
     "output_type": "stream",
     "text": [
      "mass        0.1\n",
      "diameter    0.3\n",
      "density     0.5\n",
      "dtype: float64\n"
     ]
    }
   ],
   "source": [
    "mercury=pd.Series([0.1,0.3,0.5],index=['mass','diameter','density'])\n",
    "print(mercury)"
   ]
  },
  {
   "cell_type": "code",
   "execution_count": 6,
   "metadata": {},
   "outputs": [
    {
     "name": "stdout",
     "output_type": "stream",
     "text": [
      "0.1\n"
     ]
    }
   ],
   "source": [
    "mercury=pd.Series([0.1,0.3,0.5],index=['mass','diameter','density'])\n",
    "\n",
    "a=mercury['mass']\n",
    "print(a)"
   ]
  },
  {
   "cell_type": "code",
   "execution_count": null,
   "metadata": {},
   "outputs": [],
   "source": [
    "#converting dict to series"
   ]
  },
  {
   "cell_type": "code",
   "execution_count": 9,
   "metadata": {},
   "outputs": [
    {
     "name": "stdout",
     "output_type": "stream",
     "text": [
      "{'mass': 0.1, 'dia': 0.2, 'den': 0.3}\n",
      "<class 'dict'>\n",
      "mass    0.1\n",
      "dia     0.2\n",
      "den     0.3\n",
      "dtype: float64\n"
     ]
    }
   ],
   "source": [
    "d={}\n",
    "d['mass']=0.1\n",
    "d['dia']=0.2\n",
    "d['den']=0.3\n",
    "print(d)\n",
    "print(type(d))\n",
    "\n",
    "mercury=pd.Series(d)\n",
    "print(mercury)"
   ]
  },
  {
   "cell_type": "code",
   "execution_count": 10,
   "metadata": {},
   "outputs": [],
   "source": [
    "#loc and iloc"
   ]
  },
  {
   "cell_type": "code",
   "execution_count": null,
   "metadata": {},
   "outputs": [],
   "source": [
    "location and implicit location"
   ]
  },
  {
   "cell_type": "code",
   "execution_count": 11,
   "metadata": {},
   "outputs": [
    {
     "name": "stdout",
     "output_type": "stream",
     "text": [
      "mass        0.1\n",
      "diameter    0.3\n",
      "density     0.5\n",
      "dtype: float64\n"
     ]
    }
   ],
   "source": [
    "mercury=pd.Series([0.1,0.3,0.5],index=['mass','diameter','density'])\n",
    "print(mercury)"
   ]
  },
  {
   "cell_type": "code",
   "execution_count": 20,
   "metadata": {},
   "outputs": [
    {
     "name": "stdout",
     "output_type": "stream",
     "text": [
      "0.1\n",
      "0.3\n"
     ]
    }
   ],
   "source": [
    "l=mercury.loc['mass']\n",
    "print(l)\n",
    "i=mercury.iloc[1]#not allows characters\n",
    "print(i)"
   ]
  },
  {
   "cell_type": "code",
   "execution_count": null,
   "metadata": {},
   "outputs": [],
   "source": [
    "#simple operations"
   ]
  },
  {
   "cell_type": "code",
   "execution_count": 1,
   "metadata": {},
   "outputs": [
    {
     "name": "stdout",
     "output_type": "stream",
     "text": [
      "Mercury       0.3300\n",
      "Venus         4.8700\n",
      "Earth         5.9700\n",
      "Mars          0.6420\n",
      "jupiter    1898.0000\n",
      "Saturn      568.0000\n",
      "Uranus       86.8000\n",
      "Neptune     102.0000\n",
      "Plito         0.0146\n",
      "dtype: float64\n"
     ]
    }
   ],
   "source": [
    "import pandas as pd\n",
    "mass=pd.Series([0.33,4.87,5.97,0.642,1898,568,86.8,102,0.0146],index=['Mercury','Venus','Earth','Mars','jupiter','Saturn','Uranus','Neptune','Plito'])\n",
    "print(mass)"
   ]
  },
  {
   "cell_type": "code",
   "execution_count": 22,
   "metadata": {},
   "outputs": [
    {
     "name": "stdout",
     "output_type": "stream",
     "text": [
      "4.87\n"
     ]
    }
   ],
   "source": [
    "print(mass[1])"
   ]
  },
  {
   "cell_type": "code",
   "execution_count": 23,
   "metadata": {},
   "outputs": [
    {
     "name": "stdout",
     "output_type": "stream",
     "text": [
      "4.87\n"
     ]
    }
   ],
   "source": [
    "print(mass.iloc[1])"
   ]
  },
  {
   "cell_type": "code",
   "execution_count": 25,
   "metadata": {},
   "outputs": [
    {
     "name": "stdout",
     "output_type": "stream",
     "text": [
      "4.87\n"
     ]
    }
   ],
   "source": [
    "print(mass.loc[\"Venus\"])"
   ]
  },
  {
   "cell_type": "code",
   "execution_count": 27,
   "metadata": {},
   "outputs": [
    {
     "name": "stdout",
     "output_type": "stream",
     "text": [
      "Mercury     True\n",
      "Venus       True\n",
      "Earth       True\n",
      "Mars        True\n",
      "jupiter    False\n",
      "Saturn     False\n",
      "Uranus      True\n",
      "Neptune    False\n",
      "Plito       True\n",
      "dtype: bool\n"
     ]
    }
   ],
   "source": [
    "print(mass<100)"
   ]
  },
  {
   "cell_type": "code",
   "execution_count": 28,
   "metadata": {},
   "outputs": [
    {
     "name": "stdout",
     "output_type": "stream",
     "text": [
      "jupiter    1898.0\n",
      "Saturn      568.0\n",
      "Neptune     102.0\n",
      "dtype: float64\n"
     ]
    }
   ],
   "source": [
    "print(mass[mass>100])"
   ]
  },
  {
   "cell_type": "code",
   "execution_count": 2,
   "metadata": {},
   "outputs": [
    {
     "name": "stdout",
     "output_type": "stream",
     "text": [
      "Mercury       0.6600\n",
      "Venus         9.7400\n",
      "Earth        11.9400\n",
      "Mars          1.2840\n",
      "jupiter    3796.0000\n",
      "Saturn     1136.0000\n",
      "Uranus      173.6000\n",
      "Neptune     204.0000\n",
      "Plito         0.0292\n",
      "dtype: float64\n"
     ]
    }
   ],
   "source": [
    "print(mass*2)"
   ]
  },
  {
   "cell_type": "code",
   "execution_count": 3,
   "metadata": {},
   "outputs": [
    {
     "ename": "TypeError",
     "evalue": "'numpy.ndarray' object is not callable",
     "output_type": "error",
     "traceback": [
      "\u001b[1;31m---------------------------------------------------------------------------\u001b[0m",
      "\u001b[1;31mTypeError\u001b[0m                                 Traceback (most recent call last)",
      "\u001b[1;32m<ipython-input-3-0a87ea6e9773>\u001b[0m in \u001b[0;36m<module>\u001b[1;34m\u001b[0m\n\u001b[1;32m----> 1\u001b[1;33m \u001b[1;32mfor\u001b[0m \u001b[0mi\u001b[0m \u001b[1;32min\u001b[0m \u001b[0mmass\u001b[0m\u001b[1;33m.\u001b[0m\u001b[0mvalues\u001b[0m\u001b[1;33m(\u001b[0m\u001b[1;33m)\u001b[0m\u001b[1;33m:\u001b[0m\u001b[1;33m\u001b[0m\u001b[1;33m\u001b[0m\u001b[0m\n\u001b[0m\u001b[0;32m      2\u001b[0m     \u001b[1;32mif\u001b[0m \u001b[0mmass\u001b[0m\u001b[1;33m.\u001b[0m\u001b[0mvalues\u001b[0m\u001b[1;33m==\u001b[0m\u001b[1;34m\"Nan\"\u001b[0m\u001b[1;33m:\u001b[0m\u001b[1;33m\u001b[0m\u001b[1;33m\u001b[0m\u001b[0m\n\u001b[0;32m      3\u001b[0m         \u001b[0mprint\u001b[0m\u001b[1;33m(\u001b[0m\u001b[1;34m\"0\"\u001b[0m\u001b[1;33m)\u001b[0m\u001b[1;33m\u001b[0m\u001b[1;33m\u001b[0m\u001b[0m\n\u001b[0;32m      4\u001b[0m     \u001b[1;32melse\u001b[0m\u001b[1;33m:\u001b[0m\u001b[1;33m\u001b[0m\u001b[1;33m\u001b[0m\u001b[0m\n\u001b[0;32m      5\u001b[0m         \u001b[0mprint\u001b[0m\u001b[1;33m(\u001b[0m\u001b[1;34m\"Nan\"\u001b[0m\u001b[1;33m)\u001b[0m\u001b[1;33m\u001b[0m\u001b[1;33m\u001b[0m\u001b[0m\n",
      "\u001b[1;31mTypeError\u001b[0m: 'numpy.ndarray' object is not callable"
     ]
    }
   ],
   "source": [
    "for i in mass.values():\n",
    "    if mass.values==\"Nan\":\n",
    "        print(\"0\")\n",
    "    else:\n",
    "        print(\"Nan\")"
   ]
  },
  {
   "cell_type": "code",
   "execution_count": 40,
   "metadata": {},
   "outputs": [
    {
     "name": "stdout",
     "output_type": "stream",
     "text": [
      "Mercury    1.089000e-01\n",
      "Venus      2.371690e+01\n",
      "Earth      3.564090e+01\n",
      "Mars       4.121640e-01\n",
      "jupiter    3.602404e+06\n",
      "Saturn     3.226240e+05\n",
      "Uranus     7.534240e+03\n",
      "Neptune    1.040400e+04\n",
      "Plito      2.131600e-04\n",
      "dtype: float64\n"
     ]
    }
   ],
   "source": [
    "big_mass=mass*mass\n",
    "print(big_mass)"
   ]
  },
  {
   "cell_type": "code",
   "execution_count": 4,
   "metadata": {},
   "outputs": [
    {
     "name": "stdout",
     "output_type": "stream",
     "text": [
      "Mercury       0.3300\n",
      "Venus         4.8700\n",
      "Earth         5.9700\n",
      "Mars          0.6420\n",
      "jupiter    1898.0000\n",
      "Saturn      568.0000\n",
      "Uranus       86.8000\n",
      "Neptune     102.0000\n",
      "Plito         0.0146\n",
      "dtype: float64\n"
     ]
    }
   ],
   "source": [
    "print(mass)"
   ]
  },
  {
   "cell_type": "code",
   "execution_count": 5,
   "metadata": {
    "scrolled": true
   },
   "outputs": [
    {
     "name": "stdout",
     "output_type": "stream",
     "text": [
      "Mercury       0.3300\n",
      "Venus         4.8700\n",
      "Earth         5.9700\n",
      "Mars          0.6420\n",
      "jupiter    1898.0000\n",
      "Saturn      568.0000\n",
      "Uranus       86.8000\n",
      "Neptune     102.0000\n",
      "Plito         0.0146\n",
      "moon         66.0000\n",
      "dtype: float64\n"
     ]
    }
   ],
   "source": [
    "mass['moon']=66\n",
    "print(mass)"
   ]
  },
  {
   "cell_type": "code",
   "execution_count": null,
   "metadata": {},
   "outputs": [],
   "source": [
    "#Creating data frame objects"
   ]
  },
  {
   "cell_type": "code",
   "execution_count": 6,
   "metadata": {},
   "outputs": [],
   "source": [
    "import numpy as np\n",
    "import pandas as pd"
   ]
  },
  {
   "cell_type": "code",
   "execution_count": 14,
   "metadata": {},
   "outputs": [
    {
     "name": "stdout",
     "output_type": "stream",
     "text": [
      "[[31 30 42]\n",
      " [35 30 43]\n",
      " [32 35 43]\n",
      " [36 40 37]]\n"
     ]
    }
   ],
   "source": [
    "arr=np.random.randint(30,44,(4,3))\n",
    "print(arr)"
   ]
  },
  {
   "cell_type": "code",
   "execution_count": 17,
   "metadata": {},
   "outputs": [
    {
     "name": "stdout",
     "output_type": "stream",
     "text": [
      "    0   1   2\n",
      "0  31  30  42\n",
      "1  35  30  43\n",
      "2  32  35  43\n",
      "3  36  40  37\n"
     ]
    }
   ],
   "source": [
    "df=pd.DataFrame(arr)\n",
    "print(df)"
   ]
  },
  {
   "cell_type": "code",
   "execution_count": 18,
   "metadata": {},
   "outputs": [
    {
     "name": "stdout",
     "output_type": "stream",
     "text": [
      "[[31 30 42]\n",
      " [35 30 43]\n",
      " [32 35 43]\n",
      " [36 40 37]]\n"
     ]
    }
   ],
   "source": [
    "print(df.values)"
   ]
  },
  {
   "cell_type": "code",
   "execution_count": 19,
   "metadata": {},
   "outputs": [
    {
     "name": "stdout",
     "output_type": "stream",
     "text": [
      "RangeIndex(start=0, stop=4, step=1)\n"
     ]
    }
   ],
   "source": [
    "print(df.index)"
   ]
  },
  {
   "cell_type": "code",
   "execution_count": 21,
   "metadata": {},
   "outputs": [
    {
     "name": "stdout",
     "output_type": "stream",
     "text": [
      "<bound method DataFrame.items of     0   1   2\n",
      "0  31  30  42\n",
      "1  35  30  43\n",
      "2  32  35  43\n",
      "3  36  40  37>\n"
     ]
    }
   ],
   "source": [
    "print(df.items)"
   ]
  },
  {
   "cell_type": "code",
   "execution_count": 23,
   "metadata": {},
   "outputs": [
    {
     "name": "stdout",
     "output_type": "stream",
     "text": [
      "0\n",
      "1\n",
      "2\n"
     ]
    }
   ],
   "source": [
    "for i in df.columns:\n",
    "    print(i)"
   ]
  },
  {
   "cell_type": "code",
   "execution_count": 36,
   "metadata": {},
   "outputs": [
    {
     "name": "stdout",
     "output_type": "stream",
     "text": [
      "[[37 41 39]\n",
      " [34 35 34]\n",
      " [41 40 39]\n",
      " [30 30 42]]\n",
      "    0   1   2\n",
      "0  37  41  39\n",
      "1  34  35  34\n",
      "2  41  40  39\n",
      "3  30  30  42\n",
      "   11  12  13\n",
      "a  37  41  39\n",
      "b  34  35  34\n",
      "c  41  40  39\n",
      "d  30  30  42\n"
     ]
    }
   ],
   "source": [
    "import numpy as np\n",
    "import pandas as pd\n",
    "arr=np.random.randint(30,44,(4,3))\n",
    "print(arr)\n",
    "df=pd.DataFrame(arr)\n",
    "print(df)\n",
    "df.index=['a','b','c','d']\n",
    "df.columns=['11','12','13']\n",
    "print(df)\n",
    "#print(df.index)"
   ]
  },
  {
   "cell_type": "code",
   "execution_count": 52,
   "metadata": {},
   "outputs": [
    {
     "name": "stdout",
     "output_type": "stream",
     "text": [
      "            method  number  orbital_period   mass  distance  year\n",
      "0  Radial Velocity       1         269.300   7.10     77.40  2006\n",
      "1  Radial Velocity       1         874.774   2.21     56.95  2008\n",
      "2  Radial Velocity       1         763.000   2.60     19.84  2011\n",
      "3  Radial Velocity       1         326.030  19.40    110.62  2007\n",
      "4  Radial Velocity       1         516.220  10.50    119.47  2009\n"
     ]
    }
   ],
   "source": [
    "import seaborn as sns\n",
    "df=sns.load_dataset('planets')\n",
    "print(df.head())"
   ]
  },
  {
   "cell_type": "code",
   "execution_count": 53,
   "metadata": {},
   "outputs": [
    {
     "name": "stdout",
     "output_type": "stream",
     "text": [
      "       method  number  orbital_period  mass  distance  year\n",
      "1030  Transit       1        3.941507   NaN     172.0  2006\n",
      "1031  Transit       1        2.615864   NaN     148.0  2007\n",
      "1032  Transit       1        3.191524   NaN     174.0  2007\n",
      "1033  Transit       1        4.125083   NaN     293.0  2008\n",
      "1034  Transit       1        4.187757   NaN     260.0  2008\n",
      "<bound method NDFrame.describe of                method  number  orbital_period   mass  distance  year\n",
      "0     Radial Velocity       1      269.300000   7.10     77.40  2006\n",
      "1     Radial Velocity       1      874.774000   2.21     56.95  2008\n",
      "2     Radial Velocity       1      763.000000   2.60     19.84  2011\n",
      "3     Radial Velocity       1      326.030000  19.40    110.62  2007\n",
      "4     Radial Velocity       1      516.220000  10.50    119.47  2009\n",
      "...               ...     ...             ...    ...       ...   ...\n",
      "1030          Transit       1        3.941507    NaN    172.00  2006\n",
      "1031          Transit       1        2.615864    NaN    148.00  2007\n",
      "1032          Transit       1        3.191524    NaN    174.00  2007\n",
      "1033          Transit       1        4.125083    NaN    293.00  2008\n",
      "1034          Transit       1        4.187757    NaN    260.00  2008\n",
      "\n",
      "[1035 rows x 6 columns]>\n",
      "<bound method DataFrame.info of                method  number  orbital_period   mass  distance  year\n",
      "0     Radial Velocity       1      269.300000   7.10     77.40  2006\n",
      "1     Radial Velocity       1      874.774000   2.21     56.95  2008\n",
      "2     Radial Velocity       1      763.000000   2.60     19.84  2011\n",
      "3     Radial Velocity       1      326.030000  19.40    110.62  2007\n",
      "4     Radial Velocity       1      516.220000  10.50    119.47  2009\n",
      "...               ...     ...             ...    ...       ...   ...\n",
      "1030          Transit       1        3.941507    NaN    172.00  2006\n",
      "1031          Transit       1        2.615864    NaN    148.00  2007\n",
      "1032          Transit       1        3.191524    NaN    174.00  2007\n",
      "1033          Transit       1        4.125083    NaN    293.00  2008\n",
      "1034          Transit       1        4.187757    NaN    260.00  2008\n",
      "\n",
      "[1035 rows x 6 columns]>\n"
     ]
    }
   ],
   "source": [
    "import numpy as np\n",
    "import pandas as pd\n",
    "print(df.tail())\n",
    "print(df.describe)\n",
    "print(df.info)"
   ]
  },
  {
   "cell_type": "code",
   "execution_count": null,
   "metadata": {},
   "outputs": [],
   "source": [
    "#slicing and dicing of dataframes"
   ]
  },
  {
   "cell_type": "code",
   "execution_count": 1,
   "metadata": {},
   "outputs": [],
   "source": [
    "import pandas as pd\n",
    "import numpy as np"
   ]
  },
  {
   "cell_type": "code",
   "execution_count": 8,
   "metadata": {},
   "outputs": [
    {
     "name": "stdout",
     "output_type": "stream",
     "text": [
      "        Ord_id  Prod_id   Ship_id    Cust_id      Sales  Discount  \\\n",
      "0     Ord_5446  Prod_16  SHP_7609  Cust_1818   136.8100      0.01   \n",
      "1     Ord_5406  Prod_13  SHP_7549  Cust_1818    42.2700      0.01   \n",
      "2     Ord_5446   Prod_4  SHP_7610  Cust_1818  4701.6900      0.00   \n",
      "3     Ord_5456   Prod_6  SHP_7625  Cust_1818  2337.8900      0.09   \n",
      "4     Ord_5485  Prod_17  SHP_7664  Cust_1818  4233.1500      0.08   \n",
      "...        ...      ...       ...        ...        ...       ...   \n",
      "8394  Ord_5353   Prod_4  SHP_7479  Cust_1798  2841.4395      0.08   \n",
      "8395  Ord_5411   Prod_6  SHP_7555  Cust_1798   127.1600      0.10   \n",
      "8396  Ord_5388   Prod_6  SHP_7524  Cust_1798   243.0500      0.02   \n",
      "8397  Ord_5348  Prod_15  SHP_7469  Cust_1798  3872.8700      0.03   \n",
      "8398  Ord_5459   Prod_6  SHP_7628  Cust_1798   603.6900      0.00   \n",
      "\n",
      "      Order_Quantity   Profit  Shipping_Cost  Product_Base_Margin  \n",
      "0                 23   -30.51           3.60                 0.56  \n",
      "1                 13     4.56           0.93                 0.54  \n",
      "2                 26  1148.90           2.50                 0.59  \n",
      "3                 43   729.34          14.30                 0.37  \n",
      "4                 35  1219.87          26.30                 0.38  \n",
      "...              ...      ...            ...                  ...  \n",
      "8394              28   374.63           7.69                 0.59  \n",
      "8395              20   -74.03           6.92                 0.37  \n",
      "8396              39   -70.85           5.35                 0.40  \n",
      "8397              23   565.34          30.00                 0.62  \n",
      "8398              47   131.39           4.86                 0.38  \n",
      "\n",
      "[8399 rows x 10 columns]\n"
     ]
    }
   ],
   "source": [
    "df=pd.read_csv(\"global_sales_data/market_fact.csv\")\n",
    "print(df)"
   ]
  },
  {
   "cell_type": "code",
   "execution_count": 9,
   "metadata": {},
   "outputs": [
    {
     "name": "stdout",
     "output_type": "stream",
     "text": [
      "<bound method NDFrame.head of         Ord_id  Prod_id   Ship_id    Cust_id      Sales  Discount  \\\n",
      "0     Ord_5446  Prod_16  SHP_7609  Cust_1818   136.8100      0.01   \n",
      "1     Ord_5406  Prod_13  SHP_7549  Cust_1818    42.2700      0.01   \n",
      "2     Ord_5446   Prod_4  SHP_7610  Cust_1818  4701.6900      0.00   \n",
      "3     Ord_5456   Prod_6  SHP_7625  Cust_1818  2337.8900      0.09   \n",
      "4     Ord_5485  Prod_17  SHP_7664  Cust_1818  4233.1500      0.08   \n",
      "...        ...      ...       ...        ...        ...       ...   \n",
      "8394  Ord_5353   Prod_4  SHP_7479  Cust_1798  2841.4395      0.08   \n",
      "8395  Ord_5411   Prod_6  SHP_7555  Cust_1798   127.1600      0.10   \n",
      "8396  Ord_5388   Prod_6  SHP_7524  Cust_1798   243.0500      0.02   \n",
      "8397  Ord_5348  Prod_15  SHP_7469  Cust_1798  3872.8700      0.03   \n",
      "8398  Ord_5459   Prod_6  SHP_7628  Cust_1798   603.6900      0.00   \n",
      "\n",
      "      Order_Quantity   Profit  Shipping_Cost  Product_Base_Margin  \n",
      "0                 23   -30.51           3.60                 0.56  \n",
      "1                 13     4.56           0.93                 0.54  \n",
      "2                 26  1148.90           2.50                 0.59  \n",
      "3                 43   729.34          14.30                 0.37  \n",
      "4                 35  1219.87          26.30                 0.38  \n",
      "...              ...      ...            ...                  ...  \n",
      "8394              28   374.63           7.69                 0.59  \n",
      "8395              20   -74.03           6.92                 0.37  \n",
      "8396              39   -70.85           5.35                 0.40  \n",
      "8397              23   565.34          30.00                 0.62  \n",
      "8398              47   131.39           4.86                 0.38  \n",
      "\n",
      "[8399 rows x 10 columns]>\n",
      "<bound method NDFrame.tail of         Ord_id  Prod_id   Ship_id    Cust_id      Sales  Discount  \\\n",
      "0     Ord_5446  Prod_16  SHP_7609  Cust_1818   136.8100      0.01   \n",
      "1     Ord_5406  Prod_13  SHP_7549  Cust_1818    42.2700      0.01   \n",
      "2     Ord_5446   Prod_4  SHP_7610  Cust_1818  4701.6900      0.00   \n",
      "3     Ord_5456   Prod_6  SHP_7625  Cust_1818  2337.8900      0.09   \n",
      "4     Ord_5485  Prod_17  SHP_7664  Cust_1818  4233.1500      0.08   \n",
      "...        ...      ...       ...        ...        ...       ...   \n",
      "8394  Ord_5353   Prod_4  SHP_7479  Cust_1798  2841.4395      0.08   \n",
      "8395  Ord_5411   Prod_6  SHP_7555  Cust_1798   127.1600      0.10   \n",
      "8396  Ord_5388   Prod_6  SHP_7524  Cust_1798   243.0500      0.02   \n",
      "8397  Ord_5348  Prod_15  SHP_7469  Cust_1798  3872.8700      0.03   \n",
      "8398  Ord_5459   Prod_6  SHP_7628  Cust_1798   603.6900      0.00   \n",
      "\n",
      "      Order_Quantity   Profit  Shipping_Cost  Product_Base_Margin  \n",
      "0                 23   -30.51           3.60                 0.56  \n",
      "1                 13     4.56           0.93                 0.54  \n",
      "2                 26  1148.90           2.50                 0.59  \n",
      "3                 43   729.34          14.30                 0.37  \n",
      "4                 35  1219.87          26.30                 0.38  \n",
      "...              ...      ...            ...                  ...  \n",
      "8394              28   374.63           7.69                 0.59  \n",
      "8395              20   -74.03           6.92                 0.37  \n",
      "8396              39   -70.85           5.35                 0.40  \n",
      "8397              23   565.34          30.00                 0.62  \n",
      "8398              47   131.39           4.86                 0.38  \n",
      "\n",
      "[8399 rows x 10 columns]>\n"
     ]
    }
   ],
   "source": [
    "print(df.head)\n",
    "print(df.tail)"
   ]
  },
  {
   "cell_type": "code",
   "execution_count": 10,
   "metadata": {},
   "outputs": [
    {
     "name": "stdout",
     "output_type": "stream",
     "text": [
      "0       False\n",
      "1       False\n",
      "2       False\n",
      "3       False\n",
      "4       False\n",
      "        ...  \n",
      "8394    False\n",
      "8395    False\n",
      "8396    False\n",
      "8397    False\n",
      "8398    False\n",
      "Name: Sales, Length: 8399, dtype: bool\n"
     ]
    }
   ],
   "source": [
    "print(df.Sales>5000)"
   ]
  },
  {
   "cell_type": "code",
   "execution_count": 11,
   "metadata": {},
   "outputs": [
    {
     "name": "stdout",
     "output_type": "stream",
     "text": [
      "0       Cust_1818\n",
      "1       Cust_1818\n",
      "2       Cust_1818\n",
      "3       Cust_1818\n",
      "4       Cust_1818\n",
      "          ...    \n",
      "8394    Cust_1798\n",
      "8395    Cust_1798\n",
      "8396    Cust_1798\n",
      "8397    Cust_1798\n",
      "8398    Cust_1798\n",
      "Name: Cust_id, Length: 8399, dtype: object\n"
     ]
    }
   ],
   "source": [
    "print(df.Cust_id)"
   ]
  },
  {
   "cell_type": "code",
   "execution_count": 15,
   "metadata": {},
   "outputs": [
    {
     "name": "stdout",
     "output_type": "stream",
     "text": [
      "        Ord_id  Prod_id   Ship_id    Cust_id     Sales  Discount  \\\n",
      "1835  Ord_3875  Prod_17  SHP_5370  Cust_1351  41343.21      0.09   \n",
      "2738  Ord_3084  Prod_17  SHP_4279  Cust_1151  89061.05      0.00   \n",
      "3784  Ord_2338  Prod_17  SHP_3207   Cust_932  45923.76      0.07   \n",
      "\n",
      "      Order_Quantity    Profit  Shipping_Cost  Product_Base_Margin  \n",
      "1835               8   3852.19          24.49                 0.39  \n",
      "2738              13  27220.69          24.49                 0.39  \n",
      "3784               7    102.61          24.49                 0.39  \n"
     ]
    }
   ],
   "source": [
    "print(df.loc[df['Sales']>40000,:])\n"
   ]
  },
  {
   "cell_type": "code",
   "execution_count": 16,
   "metadata": {},
   "outputs": [
    {
     "ename": "ValueError",
     "evalue": "The truth value of a DataFrame is ambiguous. Use a.empty, a.bool(), a.item(), a.any() or a.all().",
     "output_type": "error",
     "traceback": [
      "\u001b[1;31m---------------------------------------------------------------------------\u001b[0m",
      "\u001b[1;31mValueError\u001b[0m                                Traceback (most recent call last)",
      "\u001b[1;32m<ipython-input-16-a81acafa8cd2>\u001b[0m in \u001b[0;36m<module>\u001b[1;34m\u001b[0m\n\u001b[1;32m----> 1\u001b[1;33m \u001b[0mprint\u001b[0m\u001b[1;33m(\u001b[0m\u001b[0mdf\u001b[0m\u001b[1;33m.\u001b[0m\u001b[0mloc\u001b[0m\u001b[1;33m[\u001b[0m\u001b[1;33m(\u001b[0m\u001b[0mdf\u001b[0m\u001b[1;33m.\u001b[0m\u001b[0mSales\u001b[0m\u001b[1;33m>\u001b[0m\u001b[1;36m2000\u001b[0m\u001b[1;33m)\u001b[0m\u001b[1;33m]\u001b[0m \u001b[1;32mand\u001b[0m \u001b[1;33m(\u001b[0m\u001b[0mdf\u001b[0m\u001b[1;33m.\u001b[0m\u001b[0mSales\u001b[0m\u001b[1;33m>\u001b[0m\u001b[1;36m40000\u001b[0m\u001b[1;33m)\u001b[0m \u001b[1;32mand\u001b[0m \u001b[1;33m(\u001b[0m\u001b[0mdf\u001b[0m\u001b[1;33m.\u001b[0m\u001b[0mSales\u001b[0m\u001b[1;33m>\u001b[0m\u001b[1;36m10000\u001b[0m\u001b[1;33m)\u001b[0m\u001b[1;33m)\u001b[0m\u001b[1;33m\u001b[0m\u001b[1;33m\u001b[0m\u001b[0m\n\u001b[0m",
      "\u001b[1;32m~\\Anaconda3\\lib\\site-packages\\pandas\\core\\generic.py\u001b[0m in \u001b[0;36m__nonzero__\u001b[1;34m(self)\u001b[0m\n\u001b[0;32m   1553\u001b[0m             \u001b[1;34m\"The truth value of a {0} is ambiguous. \"\u001b[0m\u001b[1;33m\u001b[0m\u001b[1;33m\u001b[0m\u001b[0m\n\u001b[0;32m   1554\u001b[0m             \"Use a.empty, a.bool(), a.item(), a.any() or a.all().\".format(\n\u001b[1;32m-> 1555\u001b[1;33m                 \u001b[0mself\u001b[0m\u001b[1;33m.\u001b[0m\u001b[0m__class__\u001b[0m\u001b[1;33m.\u001b[0m\u001b[0m__name__\u001b[0m\u001b[1;33m\u001b[0m\u001b[1;33m\u001b[0m\u001b[0m\n\u001b[0m\u001b[0;32m   1556\u001b[0m             )\n\u001b[0;32m   1557\u001b[0m         )\n",
      "\u001b[1;31mValueError\u001b[0m: The truth value of a DataFrame is ambiguous. Use a.empty, a.bool(), a.item(), a.any() or a.all()."
     ]
    }
   ],
   "source": [
    "print(df.loc[(df.Sales>2000)] and (df.Sales>40000) and (df.Sales>10000))"
   ]
  },
  {
   "cell_type": "code",
   "execution_count": 19,
   "metadata": {},
   "outputs": [
    {
     "data": {
      "text/html": [
       "<div>\n",
       "<style scoped>\n",
       "    .dataframe tbody tr th:only-of-type {\n",
       "        vertical-align: middle;\n",
       "    }\n",
       "\n",
       "    .dataframe tbody tr th {\n",
       "        vertical-align: top;\n",
       "    }\n",
       "\n",
       "    .dataframe thead th {\n",
       "        text-align: right;\n",
       "    }\n",
       "</style>\n",
       "<table border=\"1\" class=\"dataframe\">\n",
       "  <thead>\n",
       "    <tr style=\"text-align: right;\">\n",
       "      <th></th>\n",
       "      <th>Ord_id</th>\n",
       "      <th>Prod_id</th>\n",
       "      <th>Ship_id</th>\n",
       "      <th>Cust_id</th>\n",
       "      <th>Sales</th>\n",
       "      <th>Discount</th>\n",
       "      <th>Order_Quantity</th>\n",
       "      <th>Profit</th>\n",
       "      <th>Shipping_Cost</th>\n",
       "      <th>Product_Base_Margin</th>\n",
       "    </tr>\n",
       "  </thead>\n",
       "  <tbody>\n",
       "    <tr>\n",
       "      <td>0</td>\n",
       "      <td>Ord_5446</td>\n",
       "      <td>Prod_16</td>\n",
       "      <td>SHP_7609</td>\n",
       "      <td>Cust_1818</td>\n",
       "      <td>136.8100</td>\n",
       "      <td>0.01</td>\n",
       "      <td>23</td>\n",
       "      <td>-30.51</td>\n",
       "      <td>3.60</td>\n",
       "      <td>0.56</td>\n",
       "    </tr>\n",
       "    <tr>\n",
       "      <td>1</td>\n",
       "      <td>Ord_5406</td>\n",
       "      <td>Prod_13</td>\n",
       "      <td>SHP_7549</td>\n",
       "      <td>Cust_1818</td>\n",
       "      <td>42.2700</td>\n",
       "      <td>0.01</td>\n",
       "      <td>13</td>\n",
       "      <td>4.56</td>\n",
       "      <td>0.93</td>\n",
       "      <td>0.54</td>\n",
       "    </tr>\n",
       "    <tr>\n",
       "      <td>2</td>\n",
       "      <td>Ord_5446</td>\n",
       "      <td>Prod_4</td>\n",
       "      <td>SHP_7610</td>\n",
       "      <td>Cust_1818</td>\n",
       "      <td>4701.6900</td>\n",
       "      <td>0.00</td>\n",
       "      <td>26</td>\n",
       "      <td>1148.90</td>\n",
       "      <td>2.50</td>\n",
       "      <td>0.59</td>\n",
       "    </tr>\n",
       "    <tr>\n",
       "      <td>3</td>\n",
       "      <td>Ord_5456</td>\n",
       "      <td>Prod_6</td>\n",
       "      <td>SHP_7625</td>\n",
       "      <td>Cust_1818</td>\n",
       "      <td>2337.8900</td>\n",
       "      <td>0.09</td>\n",
       "      <td>43</td>\n",
       "      <td>729.34</td>\n",
       "      <td>14.30</td>\n",
       "      <td>0.37</td>\n",
       "    </tr>\n",
       "    <tr>\n",
       "      <td>4</td>\n",
       "      <td>Ord_5485</td>\n",
       "      <td>Prod_17</td>\n",
       "      <td>SHP_7664</td>\n",
       "      <td>Cust_1818</td>\n",
       "      <td>4233.1500</td>\n",
       "      <td>0.08</td>\n",
       "      <td>35</td>\n",
       "      <td>1219.87</td>\n",
       "      <td>26.30</td>\n",
       "      <td>0.38</td>\n",
       "    </tr>\n",
       "    <tr>\n",
       "      <td>...</td>\n",
       "      <td>...</td>\n",
       "      <td>...</td>\n",
       "      <td>...</td>\n",
       "      <td>...</td>\n",
       "      <td>...</td>\n",
       "      <td>...</td>\n",
       "      <td>...</td>\n",
       "      <td>...</td>\n",
       "      <td>...</td>\n",
       "      <td>...</td>\n",
       "    </tr>\n",
       "    <tr>\n",
       "      <td>8394</td>\n",
       "      <td>Ord_5353</td>\n",
       "      <td>Prod_4</td>\n",
       "      <td>SHP_7479</td>\n",
       "      <td>Cust_1798</td>\n",
       "      <td>2841.4395</td>\n",
       "      <td>0.08</td>\n",
       "      <td>28</td>\n",
       "      <td>374.63</td>\n",
       "      <td>7.69</td>\n",
       "      <td>0.59</td>\n",
       "    </tr>\n",
       "    <tr>\n",
       "      <td>8395</td>\n",
       "      <td>Ord_5411</td>\n",
       "      <td>Prod_6</td>\n",
       "      <td>SHP_7555</td>\n",
       "      <td>Cust_1798</td>\n",
       "      <td>127.1600</td>\n",
       "      <td>0.10</td>\n",
       "      <td>20</td>\n",
       "      <td>-74.03</td>\n",
       "      <td>6.92</td>\n",
       "      <td>0.37</td>\n",
       "    </tr>\n",
       "    <tr>\n",
       "      <td>8396</td>\n",
       "      <td>Ord_5388</td>\n",
       "      <td>Prod_6</td>\n",
       "      <td>SHP_7524</td>\n",
       "      <td>Cust_1798</td>\n",
       "      <td>243.0500</td>\n",
       "      <td>0.02</td>\n",
       "      <td>39</td>\n",
       "      <td>-70.85</td>\n",
       "      <td>5.35</td>\n",
       "      <td>0.40</td>\n",
       "    </tr>\n",
       "    <tr>\n",
       "      <td>8397</td>\n",
       "      <td>Ord_5348</td>\n",
       "      <td>Prod_15</td>\n",
       "      <td>SHP_7469</td>\n",
       "      <td>Cust_1798</td>\n",
       "      <td>3872.8700</td>\n",
       "      <td>0.03</td>\n",
       "      <td>23</td>\n",
       "      <td>565.34</td>\n",
       "      <td>30.00</td>\n",
       "      <td>0.62</td>\n",
       "    </tr>\n",
       "    <tr>\n",
       "      <td>8398</td>\n",
       "      <td>Ord_5459</td>\n",
       "      <td>Prod_6</td>\n",
       "      <td>SHP_7628</td>\n",
       "      <td>Cust_1798</td>\n",
       "      <td>603.6900</td>\n",
       "      <td>0.00</td>\n",
       "      <td>47</td>\n",
       "      <td>131.39</td>\n",
       "      <td>4.86</td>\n",
       "      <td>0.38</td>\n",
       "    </tr>\n",
       "  </tbody>\n",
       "</table>\n",
       "<p>8399 rows × 10 columns</p>\n",
       "</div>"
      ],
      "text/plain": [
       "        Ord_id  Prod_id   Ship_id    Cust_id      Sales  Discount  \\\n",
       "0     Ord_5446  Prod_16  SHP_7609  Cust_1818   136.8100      0.01   \n",
       "1     Ord_5406  Prod_13  SHP_7549  Cust_1818    42.2700      0.01   \n",
       "2     Ord_5446   Prod_4  SHP_7610  Cust_1818  4701.6900      0.00   \n",
       "3     Ord_5456   Prod_6  SHP_7625  Cust_1818  2337.8900      0.09   \n",
       "4     Ord_5485  Prod_17  SHP_7664  Cust_1818  4233.1500      0.08   \n",
       "...        ...      ...       ...        ...        ...       ...   \n",
       "8394  Ord_5353   Prod_4  SHP_7479  Cust_1798  2841.4395      0.08   \n",
       "8395  Ord_5411   Prod_6  SHP_7555  Cust_1798   127.1600      0.10   \n",
       "8396  Ord_5388   Prod_6  SHP_7524  Cust_1798   243.0500      0.02   \n",
       "8397  Ord_5348  Prod_15  SHP_7469  Cust_1798  3872.8700      0.03   \n",
       "8398  Ord_5459   Prod_6  SHP_7628  Cust_1798   603.6900      0.00   \n",
       "\n",
       "      Order_Quantity   Profit  Shipping_Cost  Product_Base_Margin  \n",
       "0                 23   -30.51           3.60                 0.56  \n",
       "1                 13     4.56           0.93                 0.54  \n",
       "2                 26  1148.90           2.50                 0.59  \n",
       "3                 43   729.34          14.30                 0.37  \n",
       "4                 35  1219.87          26.30                 0.38  \n",
       "...              ...      ...            ...                  ...  \n",
       "8394              28   374.63           7.69                 0.59  \n",
       "8395              20   -74.03           6.92                 0.37  \n",
       "8396              39   -70.85           5.35                 0.40  \n",
       "8397              23   565.34          30.00                 0.62  \n",
       "8398              47   131.39           4.86                 0.38  \n",
       "\n",
       "[8399 rows x 10 columns]"
      ]
     },
     "execution_count": 19,
     "metadata": {},
     "output_type": "execute_result"
    }
   ],
   "source": [
    "df.loc[(df.Sales!=10000)]"
   ]
  },
  {
   "cell_type": "code",
   "execution_count": 21,
   "metadata": {},
   "outputs": [
    {
     "name": "stdout",
     "output_type": "stream",
     "text": [
      "        Ord_id  Prod_id   Ship_id    Cust_id      Sales  Discount  \\\n",
      "0     Ord_5446  Prod_16  SHP_7609  Cust_1818   136.8100      0.01   \n",
      "1     Ord_5406  Prod_13  SHP_7549  Cust_1818    42.2700      0.01   \n",
      "2     Ord_5446   Prod_4  SHP_7610  Cust_1818  4701.6900      0.00   \n",
      "3     Ord_5456   Prod_6  SHP_7625  Cust_1818  2337.8900      0.09   \n",
      "4     Ord_5485  Prod_17  SHP_7664  Cust_1818  4233.1500      0.08   \n",
      "5     Ord_5446   Prod_6  SHP_7608  Cust_1818   164.0200      0.03   \n",
      "8390  Ord_5435  Prod_16  SHP_7594  Cust_1798   316.9900      0.04   \n",
      "8391  Ord_5435   Prod_4  SHP_7594  Cust_1798  1991.8985      0.07   \n",
      "8392  Ord_5384   Prod_9  SHP_7519  Cust_1798   181.5000      0.08   \n",
      "8393  Ord_5348   Prod_8  SHP_7470  Cust_1798   356.7200      0.07   \n",
      "8394  Ord_5353   Prod_4  SHP_7479  Cust_1798  2841.4395      0.08   \n",
      "8395  Ord_5411   Prod_6  SHP_7555  Cust_1798   127.1600      0.10   \n",
      "8396  Ord_5388   Prod_6  SHP_7524  Cust_1798   243.0500      0.02   \n",
      "8397  Ord_5348  Prod_15  SHP_7469  Cust_1798  3872.8700      0.03   \n",
      "8398  Ord_5459   Prod_6  SHP_7628  Cust_1798   603.6900      0.00   \n",
      "\n",
      "      Order_Quantity   Profit  Shipping_Cost  Product_Base_Margin  \n",
      "0                 23   -30.51           3.60                 0.56  \n",
      "1                 13     4.56           0.93                 0.54  \n",
      "2                 26  1148.90           2.50                 0.59  \n",
      "3                 43   729.34          14.30                 0.37  \n",
      "4                 35  1219.87          26.30                 0.38  \n",
      "5                 23   -47.64           6.15                 0.37  \n",
      "8390              47  -276.54           8.37                 0.58  \n",
      "8391              20    88.36           7.69                 0.58  \n",
      "8392              43    -6.24           2.50                 0.37  \n",
      "8393               9    12.61           1.99                 0.44  \n",
      "8394              28   374.63           7.69                 0.59  \n",
      "8395              20   -74.03           6.92                 0.37  \n",
      "8396              39   -70.85           5.35                 0.40  \n",
      "8397              23   565.34          30.00                 0.62  \n",
      "8398              47   131.39           4.86                 0.38  \n"
     ]
    }
   ],
   "source": [
    "customer_in_bangalore=['Cust_1798','Cust_1818',]\n",
    "print(df.loc[df['Cust_id'].isin(customer_in_bangalore)])\n"
   ]
  },
  {
   "cell_type": "code",
   "execution_count": 23,
   "metadata": {},
   "outputs": [
    {
     "name": "stdout",
     "output_type": "stream",
     "text": [
      "<bound method NDFrame.head of         Ord_id  Prod_id   Ship_id    Cust_id      Sales  Discount  \\\n",
      "0     Ord_5446  Prod_16  SHP_7609  Cust_1818   136.8100      0.01   \n",
      "1     Ord_5406  Prod_13  SHP_7549  Cust_1818    42.2700      0.01   \n",
      "2     Ord_5446   Prod_4  SHP_7610  Cust_1818  4701.6900      0.00   \n",
      "3     Ord_5456   Prod_6  SHP_7625  Cust_1818  2337.8900      0.09   \n",
      "4     Ord_5485  Prod_17  SHP_7664  Cust_1818  4233.1500      0.08   \n",
      "...        ...      ...       ...        ...        ...       ...   \n",
      "8394  Ord_5353   Prod_4  SHP_7479  Cust_1798  2841.4395      0.08   \n",
      "8395  Ord_5411   Prod_6  SHP_7555  Cust_1798   127.1600      0.10   \n",
      "8396  Ord_5388   Prod_6  SHP_7524  Cust_1798   243.0500      0.02   \n",
      "8397  Ord_5348  Prod_15  SHP_7469  Cust_1798  3872.8700      0.03   \n",
      "8398  Ord_5459   Prod_6  SHP_7628  Cust_1798   603.6900      0.00   \n",
      "\n",
      "      Order_Quantity   Profit  Shipping_Cost  Product_Base_Margin  \n",
      "0                 23   -30.51           3.60                 0.56  \n",
      "1                 13     4.56           0.93                 0.54  \n",
      "2                 26  1148.90           2.50                 0.59  \n",
      "3                 43   729.34          14.30                 0.37  \n",
      "4                 35  1219.87          26.30                 0.38  \n",
      "...              ...      ...            ...                  ...  \n",
      "8394              28   374.63           7.69                 0.59  \n",
      "8395              20   -74.03           6.92                 0.37  \n",
      "8396              39   -70.85           5.35                 0.40  \n",
      "8397              23   565.34          30.00                 0.62  \n",
      "8398              47   131.39           4.86                 0.38  \n",
      "\n",
      "[8399 rows x 10 columns]>\n"
     ]
    }
   ],
   "source": [
    "a=df.copy()\n",
    "print(a.head)"
   ]
  },
  {
   "cell_type": "code",
   "execution_count": 24,
   "metadata": {},
   "outputs": [],
   "source": [
    "#Merging and Concatenating"
   ]
  },
  {
   "cell_type": "markdown",
   "metadata": {},
   "source": [
    "# Merging"
   ]
  },
  {
   "cell_type": "code",
   "execution_count": 33,
   "metadata": {},
   "outputs": [
    {
     "name": "stdout",
     "output_type": "stream",
     "text": [
      "0          Cust_1\n",
      "1          Cust_2\n",
      "2          Cust_3\n",
      "3          Cust_4\n",
      "4          Cust_5\n",
      "          ...    \n",
      "1827    Cust_1828\n",
      "1828    Cust_1829\n",
      "1829    Cust_1830\n",
      "1830    Cust_1831\n",
      "1831    Cust_1832\n",
      "Name: Cust_id, Length: 1832, dtype: object\n",
      "0    Cust_1818\n",
      "1    Cust_1818\n",
      "2    Cust_1818\n",
      "3    Cust_1818\n",
      "4    Cust_1818\n",
      "Name: Cust_id, dtype: object\n",
      "0          Cust_1\n",
      "1          Cust_2\n",
      "2          Cust_2\n",
      "3          Cust_3\n",
      "4          Cust_3\n",
      "          ...    \n",
      "8394    Cust_1831\n",
      "8395    Cust_1831\n",
      "8396    Cust_1832\n",
      "8397    Cust_1832\n",
      "8398    Cust_1832\n",
      "Name: Cust_id, Length: 8399, dtype: object\n"
     ]
    }
   ],
   "source": [
    "import pandas as pd\n",
    "import numpy as np\n",
    "a1=pd.read_csv(\"global_sales_data/cust_dimen.csv\")\n",
    "print(a1.Cust_id)\n",
    "a2=pd.read_csv(\"global_sales_data/market_fact.csv\")\n",
    "print(a2.Cust_id.head())\n",
    "customer=pd.merge(a1,a2,how='inner',on='Cust_id')\n",
    "print(customer.Cust_id)"
   ]
  },
  {
   "cell_type": "markdown",
   "metadata": {},
   "source": [
    "# Concatenating"
   ]
  },
  {
   "cell_type": "code",
   "execution_count": 6,
   "metadata": {},
   "outputs": [
    {
     "name": "stdout",
     "output_type": "stream",
     "text": [
      "      Name  Age Gender\n",
      "0    Pavan   21      M\n",
      "1    Nayan   23      M\n",
      "2  Naveeni   24      F\n",
      "0   Harsha   21      M\n",
      "1   Nayaki   25      F\n"
     ]
    }
   ],
   "source": [
    "import pandas as pd\n",
    "import numpy as np\n",
    " \n",
    "df1=pd.DataFrame({'Name':['Pavan','Nayan','Naveeni'],\n",
    "                  'Age':[21,23,24],\n",
    "                  'Gender':['M','M','F']})\n",
    "df2=pd.DataFrame({'Name':['Harsha','Nayaki'],\n",
    "                  'Age':[21,25],\n",
    "                  'Gender':['M','F']})\n",
    "a=pd.concat([df1,df2],axis=0)\n",
    "print(a)\n"
   ]
  },
  {
   "cell_type": "markdown",
   "metadata": {},
   "source": [
    "# Grouping and Summeraizing"
   ]
  },
  {
   "cell_type": "code",
   "execution_count": 7,
   "metadata": {},
   "outputs": [],
   "source": [
    "import pandas as pd\n",
    "import numpy as np"
   ]
  },
  {
   "cell_type": "code",
   "execution_count": 8,
   "metadata": {},
   "outputs": [],
   "source": [
    "market_df=pd.read_csv(\"global_sales_data/market_fact.csv\")\n",
    "customer_df=pd.read_csv(\"global_sales_data/cust_dimen.csv\")\n",
    "order_df=pd.read_csv(\"global_sales_data/orders_dimen.csv\")\n",
    "product_df=pd.read_csv(\"global_sales_data/prod_dimen.csv\")\n",
    "shipping_df=pd.read_csv(\"global_sales_data/shipping_dimen.csv\")\n",
    "\n"
   ]
  },
  {
   "cell_type": "code",
   "execution_count": 13,
   "metadata": {},
   "outputs": [
    {
     "name": "stdout",
     "output_type": "stream",
     "text": [
      "<bound method DataFrame.info of         Ord_id  Prod_id   Ship_id    Cust_id     Sales  Discount  \\\n",
      "0     Ord_5446  Prod_16  SHP_7609  Cust_1818    136.81      0.01   \n",
      "1     Ord_5446   Prod_4  SHP_7610  Cust_1818   4701.69      0.00   \n",
      "2     Ord_5446   Prod_6  SHP_7608  Cust_1818    164.02      0.03   \n",
      "3     Ord_2978  Prod_16  SHP_4112  Cust_1088    305.05      0.04   \n",
      "4     Ord_5484  Prod_16  SHP_7663  Cust_1820    322.82      0.05   \n",
      "...        ...      ...       ...        ...       ...       ...   \n",
      "8394  Ord_5018  Prod_14  SHP_7001  Cust_1696   7325.63      0.04   \n",
      "8395   Ord_669  Prod_14   SHP_916   Cust_224  20872.16      0.03   \n",
      "8396   Ord_508  Prod_14   SHP_686   Cust_186  19109.61      0.10   \n",
      "8397  Ord_3721  Prod_14  SHP_5162  Cust_1309    614.14      0.09   \n",
      "8398   Ord_825  Prod_14  SHP_1132   Cust_247  27663.92      0.05   \n",
      "\n",
      "      Order_Quantity   Profit  Shipping_Cost  Product_Base_Margin  ...  \\\n",
      "0                 23   -30.51           3.60                 0.56  ...   \n",
      "1                 26  1148.90           2.50                 0.59  ...   \n",
      "2                 23   -47.64           6.15                 0.37  ...   \n",
      "3                 27    23.12           3.37                 0.57  ...   \n",
      "4                 35   -17.58           3.98                 0.56  ...   \n",
      "...              ...      ...            ...                  ...  ...   \n",
      "8394              38  1899.23          24.49                 0.46  ...   \n",
      "8395              29 -4437.91          24.49                 0.41  ...   \n",
      "8396              40  -379.29          24.49                 0.36  ...   \n",
      "8397               3  -735.27          24.49                 0.46  ...   \n",
      "8398               8  -391.92          24.49                 0.37  ...   \n",
      "\n",
      "       Region Customer_Segment Product_Category  \\\n",
      "0        WEST        CORPORATE  OFFICE SUPPLIES   \n",
      "1        WEST        CORPORATE       TECHNOLOGY   \n",
      "2        WEST        CORPORATE  OFFICE SUPPLIES   \n",
      "3     ONTARIO      HOME OFFICE  OFFICE SUPPLIES   \n",
      "4        WEST         CONSUMER  OFFICE SUPPLIES   \n",
      "...       ...              ...              ...   \n",
      "8394     WEST   SMALL BUSINESS       TECHNOLOGY   \n",
      "8395     WEST        CORPORATE       TECHNOLOGY   \n",
      "8396     WEST      HOME OFFICE       TECHNOLOGY   \n",
      "8397   PRARIE      HOME OFFICE       TECHNOLOGY   \n",
      "8398     WEST         CONSUMER       TECHNOLOGY   \n",
      "\n",
      "               Product_Sub_Category Order_ID_x    Ship_Mode   Ship_Date  \\\n",
      "0     SCISSORS, RULERS AND TRIMMERS      36262  REGULAR AIR  28-07-2010   \n",
      "1      TELEPHONES AND COMMUNICATION      36262  EXPRESS AIR  27-07-2010   \n",
      "2                             PAPER      36262  EXPRESS AIR  28-07-2010   \n",
      "3     SCISSORS, RULERS AND TRIMMERS      37863  REGULAR AIR  26-02-2011   \n",
      "4     SCISSORS, RULERS AND TRIMMERS      53026  REGULAR AIR  03-03-2012   \n",
      "...                             ...        ...          ...         ...   \n",
      "8394                COPIERS AND FAX      54214  EXPRESS AIR  05-01-2012   \n",
      "8395                COPIERS AND FAX      52035  REGULAR AIR  30-11-2009   \n",
      "8396                COPIERS AND FAX       5988  EXPRESS AIR  22-11-2010   \n",
      "8397                COPIERS AND FAX      27616  REGULAR AIR  01-08-2012   \n",
      "8398                COPIERS AND FAX      41895  REGULAR AIR  12-01-2011   \n",
      "\n",
      "     Order_ID_y  Order_Date  Order_Priority  \n",
      "0         36262  27-07-2010   NOT SPECIFIED  \n",
      "1         36262  27-07-2010   NOT SPECIFIED  \n",
      "2         36262  27-07-2010   NOT SPECIFIED  \n",
      "3         37863  24-02-2011            HIGH  \n",
      "4         53026  26-02-2012             LOW  \n",
      "...         ...         ...             ...  \n",
      "8394      54214  02-01-2012          MEDIUM  \n",
      "8395      52035  27-11-2009            HIGH  \n",
      "8396       5988  21-11-2010   NOT SPECIFIED  \n",
      "8397      27616  30-07-2012             LOW  \n",
      "8398      41895  10-01-2011        CRITICAL  \n",
      "\n",
      "[8399 rows x 22 columns]>\n"
     ]
    }
   ],
   "source": [
    "#bussiness analysis on customer segments,regions product categories\n",
    "\n",
    "df1=pd.merge(market_df,customer_df,how='inner',on='Cust_id')\n",
    "\n",
    "df2=pd.merge(df1,product_df,how='inner',on='Prod_id')\n",
    "\n",
    "df3=pd.merge(df2,shipping_df,how='inner',on='Ship_id')\n",
    "\n",
    "master_df =pd.merge(df3,order_df,how='inner',on='Ord_id')\n",
    "\n",
    "print(master_df.info)"
   ]
  },
  {
   "cell_type": "code",
   "execution_count": 14,
   "metadata": {},
   "outputs": [],
   "source": [
    "#group by customer segment"
   ]
  },
  {
   "cell_type": "code",
   "execution_count": 15,
   "metadata": {},
   "outputs": [
    {
     "name": "stdout",
     "output_type": "stream",
     "text": [
      "<pandas.core.groupby.generic.DataFrameGroupBy object at 0x00000168C990CC48>\n"
     ]
    }
   ],
   "source": [
    "df_by_segment=master_df.groupby('Customer_Segment')\n",
    "print(df_by_segment)"
   ]
  },
  {
   "cell_type": "code",
   "execution_count": 16,
   "metadata": {},
   "outputs": [],
   "source": [
    "#profit"
   ]
  },
  {
   "cell_type": "code",
   "execution_count": 17,
   "metadata": {},
   "outputs": [
    {
     "name": "stdout",
     "output_type": "stream",
     "text": [
      "Customer_Segment\n",
      "CONSUMER          287959.94\n",
      "CORPORATE         599746.00\n",
      "HOME OFFICE       318354.03\n",
      "SMALL BUSINESS    315708.01\n",
      "Name: Profit, dtype: float64\n"
     ]
    }
   ],
   "source": [
    "print(df_by_segment['Profit'].sum())"
   ]
  },
  {
   "cell_type": "code",
   "execution_count": 24,
   "metadata": {},
   "outputs": [
    {
     "name": "stdout",
     "output_type": "stream",
     "text": [
      "Customer_Segment\n",
      "CONSUMER          287959.94\n",
      "SMALL BUSINESS    315708.01\n",
      "HOME OFFICE       318354.03\n",
      "CORPORATE         599746.00\n",
      "Name: Profit, dtype: float64\n"
     ]
    }
   ],
   "source": [
    "a=df_by_segment['Profit'].sum().sort_values(ascending=True)\n",
    "print(a)"
   ]
  },
  {
   "cell_type": "code",
   "execution_count": 25,
   "metadata": {},
   "outputs": [
    {
     "name": "stdout",
     "output_type": "stream",
     "text": [
      "                     Profit\n",
      "Customer_Segment           \n",
      "CONSUMER          287959.94\n",
      "SMALL BUSINESS    315708.01\n",
      "HOME OFFICE       318354.03\n",
      "CORPORATE         599746.00\n"
     ]
    }
   ],
   "source": [
    "print(pd.DataFrame(a))"
   ]
  },
  {
   "cell_type": "code",
   "execution_count": 26,
   "metadata": {},
   "outputs": [],
   "source": [
    "#Group by product category"
   ]
  },
  {
   "cell_type": "code",
   "execution_count": 29,
   "metadata": {},
   "outputs": [
    {
     "name": "stdout",
     "output_type": "stream",
     "text": [
      "Product_Category\n",
      "FURNITURE           68.116607\n",
      "OFFICE SUPPLIES    112.369074\n",
      "TECHNOLOGY         429.207516\n",
      "Name: Profit, dtype: float64\n"
     ]
    }
   ],
   "source": [
    "by_product_category=master_df.groupby('Product_Category')\n",
    "mean=by_product_category['Profit'].mean()\n",
    "print(mean)"
   ]
  },
  {
   "cell_type": "code",
   "execution_count": 30,
   "metadata": {},
   "outputs": [],
   "source": [
    "#Group by product category with multiple columns"
   ]
  },
  {
   "cell_type": "code",
   "execution_count": 32,
   "metadata": {},
   "outputs": [
    {
     "name": "stdout",
     "output_type": "stream",
     "text": [
      "Product_Category  Product_Sub_Category          \n",
      "FURNITURE         BOOKCASES                         -177.683228\n",
      "                  CHAIRS & CHAIRMATS                 387.693601\n",
      "                  OFFICE FURNISHINGS                 127.446612\n",
      "                  TABLES                            -274.411357\n",
      "OFFICE SUPPLIES   APPLIANCES                         223.866498\n",
      "                  BINDERS AND BINDER ACCESSORIES     335.970918\n",
      "                  ENVELOPES                          195.864228\n",
      "                  LABELS                              47.490174\n",
      "                  PAPER                               36.949551\n",
      "                  PENS & ART SUPPLIES                 11.950679\n",
      "                  RUBBER BANDS                        -0.573575\n",
      "                  SCISSORS, RULERS AND TRIMMERS      -54.161458\n",
      "                  STORAGE & ORGANIZATION              12.205403\n",
      "TECHNOLOGY        COMPUTER PERIPHERALS               124.389815\n",
      "                  COPIERS AND FAX                   1923.695287\n",
      "                  OFFICE MACHINES                    913.094748\n",
      "                  TELEPHONES AND COMMUNICATION       358.948607\n",
      "Name: Profit, dtype: float64\n"
     ]
    }
   ],
   "source": [
    "by_product_subcat=master_df.groupby(['Product_Category','Product_Sub_Category'])\n",
    "mean=by_product_subcat['Profit'].mean()\n",
    "print(mean)"
   ]
  },
  {
   "cell_type": "code",
   "execution_count": 34,
   "metadata": {},
   "outputs": [
    {
     "name": "stdout",
     "output_type": "stream",
     "text": [
      "Product_Category  Product_Sub_Category          \n",
      "FURNITURE         BOOKCASES                          189\n",
      "                  CHAIRS & CHAIRMATS                 386\n",
      "                  OFFICE FURNISHINGS                 788\n",
      "                  TABLES                             361\n",
      "OFFICE SUPPLIES   APPLIANCES                         434\n",
      "                  BINDERS AND BINDER ACCESSORIES     915\n",
      "                  ENVELOPES                          246\n",
      "                  LABELS                             288\n",
      "                  PAPER                             1225\n",
      "                  PENS & ART SUPPLIES                633\n",
      "                  RUBBER BANDS                       179\n",
      "                  SCISSORS, RULERS AND TRIMMERS      144\n",
      "                  STORAGE & ORGANIZATION             546\n",
      "TECHNOLOGY        COMPUTER PERIPHERALS               758\n",
      "                  COPIERS AND FAX                     87\n",
      "                  OFFICE MACHINES                    337\n",
      "                  TELEPHONES AND COMMUNICATION       883\n",
      "Name: Profit, dtype: int64\n"
     ]
    }
   ],
   "source": [
    "print(by_product_subcat['Profit'].count())"
   ]
  },
  {
   "cell_type": "code",
   "execution_count": 36,
   "metadata": {},
   "outputs": [
    {
     "name": "stdout",
     "output_type": "stream",
     "text": [
      "Product_Category  Product_Sub_Category          \n",
      "FURNITURE         BOOKCASES                          7513.88\n",
      "                  CHAIRS & CHAIRMATS                 8614.79\n",
      "                  OFFICE FURNISHINGS                 3408.46\n",
      "                  TABLES                             5626.42\n",
      "OFFICE SUPPLIES   APPLIANCES                         5183.04\n",
      "                  BINDERS AND BINDER ACCESSORIES    11535.28\n",
      "                  ENVELOPES                          3187.37\n",
      "                  LABELS                             1704.00\n",
      "                  PAPER                              1480.15\n",
      "                  PENS & ART SUPPLIES                 502.42\n",
      "                  RUBBER BANDS                         84.10\n",
      "                  SCISSORS, RULERS AND TRIMMERS      1094.74\n",
      "                  STORAGE & ORGANIZATION             7606.00\n",
      "TECHNOLOGY        COMPUTER PERIPHERALS               4833.27\n",
      "                  COPIERS AND FAX                   13340.26\n",
      "                  OFFICE MACHINES                   27220.69\n",
      "                  TELEPHONES AND COMMUNICATION       2763.13\n",
      "Name: Profit, dtype: float64\n"
     ]
    }
   ],
   "source": [
    "print(by_product_subcat['Profit'].max())"
   ]
  },
  {
   "cell_type": "code",
   "execution_count": 37,
   "metadata": {},
   "outputs": [],
   "source": [
    "#REgions"
   ]
  },
  {
   "cell_type": "code",
   "execution_count": 41,
   "metadata": {},
   "outputs": [
    {
     "name": "stdout",
     "output_type": "stream",
     "text": [
      "Region\n",
      "ATLANTIC                 238960.66\n",
      "NORTHWEST TERRITORIES    100653.08\n",
      "NUNAVUT                    2841.11\n",
      "ONTARIO                  346868.54\n",
      "PRARIE                   321160.12\n",
      "QUEBEC                   140426.65\n",
      "WEST                     297008.61\n",
      "YUKON                     73849.21\n",
      "Name: Profit, dtype: float64\n"
     ]
    }
   ],
   "source": [
    "print(master_df.groupby('Region').Profit.sum())"
   ]
  },
  {
   "cell_type": "code",
   "execution_count": 42,
   "metadata": {},
   "outputs": [],
   "source": [
    "#Sales"
   ]
  },
  {
   "cell_type": "code",
   "execution_count": 49,
   "metadata": {},
   "outputs": [
    {
     "name": "stdout",
     "output_type": "stream",
     "text": [
      "Region\n",
      "ATLANTIC                 0.135043\n",
      "NORTHWEST TERRITORIES    0.053692\n",
      "NUNAVUT                  0.007802\n",
      "ONTARIO                  0.205370\n",
      "PRARIE                   0.190224\n",
      "QUEBEC                   0.101249\n",
      "WEST                     0.241194\n",
      "YUKON                    0.065426\n",
      "Name: Sales, dtype: float64\n"
     ]
    },
    {
     "ename": "TypeError",
     "evalue": "unsupported operand type(s) for *: 'NoneType' and 'int'",
     "output_type": "error",
     "traceback": [
      "\u001b[1;31m---------------------------------------------------------------------------\u001b[0m",
      "\u001b[1;31mTypeError\u001b[0m                                 Traceback (most recent call last)",
      "\u001b[1;32m<ipython-input-49-386194bef4c4>\u001b[0m in \u001b[0;36m<module>\u001b[1;34m\u001b[0m\n\u001b[1;32m----> 1\u001b[1;33m \u001b[0mprint\u001b[0m\u001b[1;33m(\u001b[0m\u001b[0mmaster_df\u001b[0m\u001b[1;33m.\u001b[0m\u001b[0mgroupby\u001b[0m\u001b[1;33m(\u001b[0m\u001b[1;34m'Region'\u001b[0m\u001b[1;33m)\u001b[0m\u001b[1;33m.\u001b[0m\u001b[0mSales\u001b[0m\u001b[1;33m.\u001b[0m\u001b[0msum\u001b[0m\u001b[1;33m(\u001b[0m\u001b[1;33m)\u001b[0m \u001b[1;33m/\u001b[0m \u001b[0msum\u001b[0m\u001b[1;33m(\u001b[0m\u001b[0mmaster_df\u001b[0m\u001b[1;33m[\u001b[0m\u001b[1;34m'Sales'\u001b[0m\u001b[1;33m]\u001b[0m\u001b[1;33m)\u001b[0m\u001b[1;33m)\u001b[0m\u001b[1;33m*\u001b[0m\u001b[1;36m100\u001b[0m\u001b[1;33m\u001b[0m\u001b[1;33m\u001b[0m\u001b[0m\n\u001b[0m",
      "\u001b[1;31mTypeError\u001b[0m: unsupported operand type(s) for *: 'NoneType' and 'int'"
     ]
    }
   ],
   "source": [
    "print(master_df.groupby('Region').Sales.sum() / sum(master_df['Sales']))*100"
   ]
  },
  {
   "cell_type": "code",
   "execution_count": 50,
   "metadata": {},
   "outputs": [
    {
     "name": "stdout",
     "output_type": "stream",
     "text": [
      "Help on function pivot_table in module pandas.core.frame:\n",
      "\n",
      "pivot_table(self, values=None, index=None, columns=None, aggfunc='mean', fill_value=None, margins=False, dropna=True, margins_name='All', observed=False)\n",
      "    Create a spreadsheet-style pivot table as a DataFrame. The levels in\n",
      "    the pivot table will be stored in MultiIndex objects (hierarchical\n",
      "    indexes) on the index and columns of the result DataFrame.\n",
      "    \n",
      "    Parameters\n",
      "    ----------\n",
      "    values : column to aggregate, optional\n",
      "    index : column, Grouper, array, or list of the previous\n",
      "        If an array is passed, it must be the same length as the data. The\n",
      "        list can contain any of the other types (except list).\n",
      "        Keys to group by on the pivot table index.  If an array is passed,\n",
      "        it is being used as the same manner as column values.\n",
      "    columns : column, Grouper, array, or list of the previous\n",
      "        If an array is passed, it must be the same length as the data. The\n",
      "        list can contain any of the other types (except list).\n",
      "        Keys to group by on the pivot table column.  If an array is passed,\n",
      "        it is being used as the same manner as column values.\n",
      "    aggfunc : function, list of functions, dict, default numpy.mean\n",
      "        If list of functions passed, the resulting pivot table will have\n",
      "        hierarchical columns whose top level are the function names\n",
      "        (inferred from the function objects themselves)\n",
      "        If dict is passed, the key is column to aggregate and value\n",
      "        is function or list of functions\n",
      "    fill_value : scalar, default None\n",
      "        Value to replace missing values with\n",
      "    margins : boolean, default False\n",
      "        Add all row / columns (e.g. for subtotal / grand totals)\n",
      "    dropna : boolean, default True\n",
      "        Do not include columns whose entries are all NaN\n",
      "    margins_name : string, default 'All'\n",
      "        Name of the row / column that will contain the totals\n",
      "        when margins is True.\n",
      "    observed : boolean, default False\n",
      "        This only applies if any of the groupers are Categoricals.\n",
      "        If True: only show observed values for categorical groupers.\n",
      "        If False: show all values for categorical groupers.\n",
      "    \n",
      "        .. versionchanged :: 0.25.0\n",
      "    \n",
      "    Returns\n",
      "    -------\n",
      "    DataFrame\n",
      "    \n",
      "    See Also\n",
      "    --------\n",
      "    DataFrame.pivot : Pivot without aggregation that can handle\n",
      "        non-numeric data.\n",
      "    \n",
      "    Examples\n",
      "    --------\n",
      "    >>> df = pd.DataFrame({\"A\": [\"foo\", \"foo\", \"foo\", \"foo\", \"foo\",\n",
      "    ...                          \"bar\", \"bar\", \"bar\", \"bar\"],\n",
      "    ...                    \"B\": [\"one\", \"one\", \"one\", \"two\", \"two\",\n",
      "    ...                          \"one\", \"one\", \"two\", \"two\"],\n",
      "    ...                    \"C\": [\"small\", \"large\", \"large\", \"small\",\n",
      "    ...                          \"small\", \"large\", \"small\", \"small\",\n",
      "    ...                          \"large\"],\n",
      "    ...                    \"D\": [1, 2, 2, 3, 3, 4, 5, 6, 7],\n",
      "    ...                    \"E\": [2, 4, 5, 5, 6, 6, 8, 9, 9]})\n",
      "    >>> df\n",
      "         A    B      C  D  E\n",
      "    0  foo  one  small  1  2\n",
      "    1  foo  one  large  2  4\n",
      "    2  foo  one  large  2  5\n",
      "    3  foo  two  small  3  5\n",
      "    4  foo  two  small  3  6\n",
      "    5  bar  one  large  4  6\n",
      "    6  bar  one  small  5  8\n",
      "    7  bar  two  small  6  9\n",
      "    8  bar  two  large  7  9\n",
      "    \n",
      "    This first example aggregates values by taking the sum.\n",
      "    \n",
      "    >>> table = pd.pivot_table(df, values='D', index=['A', 'B'],\n",
      "    ...                     columns=['C'], aggfunc=np.sum)\n",
      "    >>> table\n",
      "    C        large  small\n",
      "    A   B\n",
      "    bar one    4.0    5.0\n",
      "        two    7.0    6.0\n",
      "    foo one    4.0    1.0\n",
      "        two    NaN    6.0\n",
      "    \n",
      "    We can also fill missing values using the `fill_value` parameter.\n",
      "    \n",
      "    >>> table = pd.pivot_table(df, values='D', index=['A', 'B'],\n",
      "    ...                     columns=['C'], aggfunc=np.sum, fill_value=0)\n",
      "    >>> table\n",
      "    C        large  small\n",
      "    A   B\n",
      "    bar one      4      5\n",
      "        two      7      6\n",
      "    foo one      4      1\n",
      "        two      0      6\n",
      "    \n",
      "    The next example aggregates by taking the mean across multiple columns.\n",
      "    \n",
      "    >>> table = pd.pivot_table(df, values=['D', 'E'], index=['A', 'C'],\n",
      "    ...                     aggfunc={'D': np.mean,\n",
      "    ...                              'E': np.mean})\n",
      "    >>> table\n",
      "                    D         E\n",
      "    A   C\n",
      "    bar large  5.500000  7.500000\n",
      "        small  5.500000  8.500000\n",
      "    foo large  2.000000  4.500000\n",
      "        small  2.333333  4.333333\n",
      "    \n",
      "    We can also calculate multiple types of aggregations for any given\n",
      "    value column.\n",
      "    \n",
      "    >>> table = pd.pivot_table(df, values=['D', 'E'], index=['A', 'C'],\n",
      "    ...                     aggfunc={'D': np.mean,\n",
      "    ...                              'E': [min, max, np.mean]})\n",
      "    >>> table\n",
      "                    D    E\n",
      "                mean  max      mean  min\n",
      "    A   C\n",
      "    bar large  5.500000  9.0  7.500000  6.0\n",
      "        small  5.500000  9.0  8.500000  8.0\n",
      "    foo large  2.000000  5.0  4.500000  4.0\n",
      "        small  2.333333  6.0  4.333333  2.0\n",
      "\n"
     ]
    }
   ],
   "source": [
    "help(pd.DataFrame.pivot_table)"
   ]
  },
  {
   "cell_type": "code",
   "execution_count": null,
   "metadata": {},
   "outputs": [],
   "source": []
  }
 ],
 "metadata": {
  "kernelspec": {
   "display_name": "Python 3",
   "language": "python",
   "name": "python3"
  },
  "language_info": {
   "codemirror_mode": {
    "name": "ipython",
    "version": 3
   },
   "file_extension": ".py",
   "mimetype": "text/x-python",
   "name": "python",
   "nbconvert_exporter": "python",
   "pygments_lexer": "ipython3",
   "version": "3.8.8"
  }
 },
 "nbformat": 4,
 "nbformat_minor": 2
}
