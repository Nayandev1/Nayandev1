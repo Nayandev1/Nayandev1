{
 "cells": [
  {
   "cell_type": "code",
   "execution_count": 16,
   "id": "e5e8573e",
   "metadata": {},
   "outputs": [
    {
     "name": "stdout",
     "output_type": "stream",
     "text": [
      "a 1\n",
      "a 1\n",
      "g 1\n",
      "x 1\n",
      "g 1\n",
      "h 1\n",
      "c 1\n",
      "n 1\n",
      "b 1\n",
      "a 1\n",
      "1\n"
     ]
    }
   ],
   "source": [
    "#Counting letters\n",
    "a=\"aagxghcnba\"\n",
    "count=0\n",
    "for i in a:\n",
    "    print(i,i.count(i))\n",
    "    count=count+1\n",
    "print(a.count(\"x\"))"
   ]
  },
  {
   "cell_type": "code",
   "execution_count": 37,
   "id": "14c495e3",
   "metadata": {},
   "outputs": [
    {
     "name": "stdout",
     "output_type": "stream",
     "text": [
      "(1, 2, 3, 'a', 'as', 34)\n",
      "1 1\n",
      "2 2\n",
      "3 3\n",
      "a 4\n",
      "as 5\n",
      "34 6\n",
      "6\n"
     ]
    }
   ],
   "source": [
    "l=[1,2,3,'a','as',34]\n",
    "print(tuple(l))\n",
    "count=0\n",
    "for i in l:\n",
    "    count=count+1\n",
    "    print(i,count)\n",
    "print(count)"
   ]
  },
  {
   "cell_type": "code",
   "execution_count": 38,
   "id": "8ae95e0e",
   "metadata": {},
   "outputs": [
    {
     "name": "stdout",
     "output_type": "stream",
     "text": [
      "ss\n"
     ]
    }
   ],
   "source": [
    "a=\"s\"\n",
    "b=\"s\"\n",
    "print(a+b)"
   ]
  },
  {
   "cell_type": "code",
   "execution_count": 56,
   "id": "795e0d82",
   "metadata": {},
   "outputs": [
    {
     "name": "stdout",
     "output_type": "stream",
     "text": [
      "Python \n",
      " Python\n",
      "Python\n"
     ]
    }
   ],
   "source": [
    "S=\" Python \"\n",
    "print(S.lstrip())\n",
    "print(S.rstrip())\n",
    "print(S.strip())"
   ]
  },
  {
   "cell_type": "code",
   "execution_count": 60,
   "id": "e82d5559",
   "metadata": {},
   "outputs": [
    {
     "name": "stdout",
     "output_type": "stream",
     "text": [
      "True\n"
     ]
    }
   ],
   "source": [
    "a='1234'\n",
    "print(a.isnumeric())"
   ]
  },
  {
   "cell_type": "code",
   "execution_count": 61,
   "id": "8ba66bcd",
   "metadata": {},
   "outputs": [
    {
     "name": "stdout",
     "output_type": "stream",
     "text": [
      "1\n"
     ]
    }
   ],
   "source": [
    "l=[1,2,3,4,\"as\"]\n",
    "print(l[0])"
   ]
  },
  {
   "cell_type": "code",
   "execution_count": 66,
   "id": "ceb79b11",
   "metadata": {},
   "outputs": [
    {
     "name": "stdout",
     "output_type": "stream",
     "text": [
      "(0, 1)\n",
      "(1, 2)\n",
      "(2, 3)\n",
      "(3, 4)\n",
      "(4, 'as')\n"
     ]
    }
   ],
   "source": [
    "l=[1,2,3,4,\"as\"]\n",
    "for i in enumerate(l):\n",
    "    print(i)"
   ]
  },
  {
   "cell_type": "code",
   "execution_count": 73,
   "id": "afa13da4",
   "metadata": {},
   "outputs": [
    {
     "name": "stdout",
     "output_type": "stream",
     "text": [
      "[23, 3, 5][1, 2, 3]\n"
     ]
    }
   ],
   "source": [
    "l1=[1,2,3]\n",
    "l2=[23,3,5]\n",
    "a1=str(l1)\n",
    "a2=str(l2)\n",
    "print(str(a2+a1))"
   ]
  },
  {
   "cell_type": "code",
   "execution_count": 78,
   "id": "cb45dfcc",
   "metadata": {},
   "outputs": [
    {
     "name": "stdout",
     "output_type": "stream",
     "text": [
      "[232, 42, 32, 5, 2]\n"
     ]
    }
   ],
   "source": [
    "l1=[2,42,32,5,232]\n",
    "l1.sort(reverse=True)\n",
    "print(l1)"
   ]
  },
  {
   "cell_type": "code",
   "execution_count": 85,
   "id": "b44ac889",
   "metadata": {},
   "outputs": [
    {
     "name": "stdout",
     "output_type": "stream",
     "text": [
      "[[1, 1, 2, 3, 2, 'a', 'a']]\n",
      "[[1, 1, 2, 3, 2, 'a', 'a']]\n",
      "[[1, 1, 2, 3, 2, 'a', 'a']]\n",
      "[[1, 1, 2, 3, 2, 'a', 'a']]\n",
      "[[1, 1, 2, 3, 2, 'a', 'a']]\n",
      "[[1, 1, 2, 3, 2, 'a', 'a']]\n",
      "[[1, 1, 2, 3, 2, 'a', 'a']]\n"
     ]
    }
   ],
   "source": [
    "l1=[1,1,2,3,2,\"a\",\"a\"]\n",
    "l2=[]\n",
    "if i in l1:\n",
    "    l2.append(l1)\n",
    "print(l2)"
   ]
  },
  {
   "cell_type": "code",
   "execution_count": 89,
   "id": "97130ea4",
   "metadata": {},
   "outputs": [
    {
     "name": "stdout",
     "output_type": "stream",
     "text": [
      "1\n",
      "2\n",
      "3\n",
      "1\n",
      "2\n",
      "3\n",
      "6\n"
     ]
    }
   ],
   "source": [
    "l1=[1,2,3]\n",
    "l2=[1,2,3]\n",
    "for i in l1:\n",
    "    print(i)\n",
    "for j in l2:\n",
    "    print(j)\n",
    "print(i+j)"
   ]
  },
  {
   "cell_type": "code",
   "execution_count": 100,
   "id": "5c958f81",
   "metadata": {},
   "outputs": [
    {
     "name": "stdout",
     "output_type": "stream",
     "text": [
      "{'name': 'pavan', 'age': 23, 'id': 23}\n"
     ]
    }
   ],
   "source": [
    "d={'name':\"pavan\",'age':23}\n",
    "d['id']=23\n",
    "print(d)\n"
   ]
  },
  {
   "cell_type": "code",
   "execution_count": 2,
   "id": "b283056b",
   "metadata": {},
   "outputs": [
    {
     "data": {
      "text/plain": [
       "['0', '1', '2', '3', '4']"
      ]
     },
     "execution_count": 2,
     "metadata": {},
     "output_type": "execute_result"
    }
   ],
   "source": [
    "[ str(i) for i in range(0,5)]"
   ]
  },
  {
   "cell_type": "code",
   "execution_count": 3,
   "id": "b3e4644a",
   "metadata": {},
   "outputs": [
    {
     "data": {
      "text/plain": [
       "5"
      ]
     },
     "execution_count": 3,
     "metadata": {},
     "output_type": "execute_result"
    }
   ],
   "source": [
    "def l(a,b):\n",
    "    return a+b\n",
    "l(2,3)"
   ]
  },
  {
   "cell_type": "code",
   "execution_count": 9,
   "id": "e914add3",
   "metadata": {},
   "outputs": [
    {
     "data": {
      "text/plain": [
       "5"
      ]
     },
     "execution_count": 9,
     "metadata": {},
     "output_type": "execute_result"
    }
   ],
   "source": [
    "sum=lambda a,b:a+b\n",
    "sum(2,3)"
   ]
  },
  {
   "cell_type": "code",
   "execution_count": 10,
   "id": "6a70ff1a",
   "metadata": {},
   "outputs": [
    {
     "name": "stdout",
     "output_type": "stream",
     "text": [
      "b\n"
     ]
    }
   ],
   "source": [
    "def gt(a,b):\n",
    "    if a >b :\n",
    "        print(\"a\")\n",
    "    else:\n",
    "        print(\"b\")\n",
    "gt(3,4)"
   ]
  },
  {
   "cell_type": "code",
   "execution_count": 18,
   "id": "1f418d0d",
   "metadata": {},
   "outputs": [
    {
     "data": {
      "text/plain": [
       "5"
      ]
     },
     "execution_count": 18,
     "metadata": {},
     "output_type": "execute_result"
    }
   ],
   "source": [
    "gt=lambda a,b:a if a>b else b  c\n",
    "gt(4,5)"
   ]
  },
  {
   "cell_type": "code",
   "execution_count": 11,
   "id": "22eab9bc",
   "metadata": {},
   "outputs": [
    {
     "data": {
      "text/plain": [
       "['odd', 'number is 2', 'odd', 'number is 4']"
      ]
     },
     "execution_count": 11,
     "metadata": {},
     "output_type": "execute_result"
    }
   ],
   "source": [
    "mylist=[1,2,3,4]\n",
    "list(map(lambda n: f'number is {n}'  if n%2==0 else \"odd\",mylist))"
   ]
  },
  {
   "cell_type": "code",
   "execution_count": 11,
   "id": "075f5fb0",
   "metadata": {},
   "outputs": [
    {
     "name": "stdout",
     "output_type": "stream",
     "text": [
      "pavan hassan\n"
     ]
    }
   ],
   "source": [
    "class Student():\n",
    "    name=\"pavan\"\n",
    "    place=\"hassan\"\n",
    "s1=Student()\n",
    "print(s1.name,s1.place)"
   ]
  },
  {
   "cell_type": "code",
   "execution_count": 17,
   "id": "e30efd3f",
   "metadata": {},
   "outputs": [
    {
     "name": "stdout",
     "output_type": "stream",
     "text": [
      "pavan hassan 23\n",
      "nayan hassan 23\n"
     ]
    }
   ],
   "source": [
    "class Student():\n",
    "    def __init__(self,name,age,place):\n",
    "        self.name=name\n",
    "        self.age=age\n",
    "        self.place=place\n",
    "s1=Student(\"pavan\",23,\"hassan\")\n",
    "print(s1.name,s1.place,s1.age)\n",
    "s1=Student(\"nayan\",23,\"hassan\")\n",
    "print(s1.name,s1.place,s1.age)"
   ]
  },
  {
   "cell_type": "code",
   "execution_count": 4,
   "id": "46558ea4",
   "metadata": {},
   "outputs": [
    {
     "name": "stdout",
     "output_type": "stream",
     "text": [
      "pavan hassan 23\n",
      "nayan hassan 23\n",
      "nayan school kannada\n",
      "None\n"
     ]
    }
   ],
   "source": [
    "class Student():\n",
    "    def __init__(self,name,age,place):\n",
    "        self.name=name\n",
    "        self.age=age\n",
    "        self.place=place\n",
    "    def school(self,language):\n",
    "        self.language=language\n",
    "        print(f'{self.name} school{language}')\n",
    "\n",
    "s1=Student(\"pavan\",23,\"hassan\")\n",
    "print(s1.name,s1.place,s1.age)\n",
    "s1=Student(\"nayan\",23,\"hassan\")\n",
    "print(s1.name,s1.place,s1.age)\n",
    "\n",
    "print(s1.school(' kannada'))"
   ]
  },
  {
   "cell_type": "code",
   "execution_count": 10,
   "id": "f08c32dd",
   "metadata": {},
   "outputs": [
    {
     "name": "stdout",
     "output_type": "stream",
     "text": [
      "suhas mugali 18\n",
      "bgs\n"
     ]
    }
   ],
   "source": [
    "class suhas():\n",
    "    def __init__(self,name,age,place):\n",
    "        self.name=name\n",
    "        self.age=age\n",
    "        self.place=place\n",
    "s1=suhas('suhas',18,'mugali')\n",
    "print(s1.name,s1.place,s1.age)\n",
    "\n",
    "class manu(suhas):\n",
    "    def __init__(self,name,age,place,school,year):\n",
    "        suhas.__init__(self,name,age,place)\n",
    "        self.school=school\n",
    "        self.year=year\n",
    "m1=manu('manu',16,'mugali','bgs',2021)\n",
    "print(m1.school)"
   ]
  },
  {
   "cell_type": "code",
   "execution_count": 23,
   "id": "d9f5dd01",
   "metadata": {},
   "outputs": [
    {
     "name": "stdout",
     "output_type": "stream",
     "text": [
      "0\n",
      "1\n",
      "2\n",
      "3\n",
      "4\n",
      "5\n",
      "6\n",
      "7\n",
      "8\n",
      "9\n",
      "28\n"
     ]
    }
   ],
   "source": [
    "a=5\n",
    "for i in range(0,10):\n",
    "    print(i)\n",
    "    #print(i)\n",
    "print(i.__sizeof__())"
   ]
  },
  {
   "cell_type": "code",
   "execution_count": 35,
   "id": "8ca9605a",
   "metadata": {},
   "outputs": [
    {
     "ename": "SyntaxError",
     "evalue": "'yield' outside function (<ipython-input-35-5e71d416b9dd>, line 4)",
     "output_type": "error",
     "traceback": [
      "\u001b[1;36m  File \u001b[1;32m\"<ipython-input-35-5e71d416b9dd>\"\u001b[1;36m, line \u001b[1;32m4\u001b[0m\n\u001b[1;33m    yield a\u001b[0m\n\u001b[1;37m    ^\u001b[0m\n\u001b[1;31mSyntaxError\u001b[0m\u001b[1;31m:\u001b[0m 'yield' outside function\n"
     ]
    }
   ],
   "source": [
    "a=5\n",
    "for i in range(5):\n",
    "    print(i)\n",
    "    yield a"
   ]
  },
  {
   "cell_type": "code",
   "execution_count": 39,
   "id": "cac1f6a2",
   "metadata": {},
   "outputs": [
    {
     "name": "stdout",
     "output_type": "stream",
     "text": [
      "1\n",
      "2\n"
     ]
    }
   ],
   "source": [
    "l=iter([1,2,3])\n",
    "x=next(l)\n",
    "print(x)\n",
    "x=next(l)\n",
    "print(x)"
   ]
  },
  {
   "cell_type": "code",
   "execution_count": 46,
   "id": "37947660",
   "metadata": {},
   "outputs": [
    {
     "ename": "TypeError",
     "evalue": "'int' object is not iterable",
     "output_type": "error",
     "traceback": [
      "\u001b[1;31m---------------------------------------------------------------------------\u001b[0m",
      "\u001b[1;31mTypeError\u001b[0m                                 Traceback (most recent call last)",
      "\u001b[1;32m<ipython-input-46-87cc0ad4bc92>\u001b[0m in \u001b[0;36m<module>\u001b[1;34m\u001b[0m\n\u001b[0;32m      1\u001b[0m \u001b[0mi\u001b[0m\u001b[1;33m=\u001b[0m\u001b[1;36m0\u001b[0m\u001b[1;33m\u001b[0m\u001b[1;33m\u001b[0m\u001b[0m\n\u001b[0;32m      2\u001b[0m \u001b[1;32mfor\u001b[0m \u001b[0mi\u001b[0m \u001b[1;32min\u001b[0m \u001b[0mrange\u001b[0m\u001b[1;33m(\u001b[0m\u001b[1;36m3\u001b[0m\u001b[1;33m)\u001b[0m\u001b[1;33m:\u001b[0m\u001b[1;33m\u001b[0m\u001b[1;33m\u001b[0m\u001b[0m\n\u001b[1;32m----> 3\u001b[1;33m     \u001b[0mprint\u001b[0m\u001b[1;33m(\u001b[0m\u001b[0mlist\u001b[0m\u001b[1;33m(\u001b[0m\u001b[0mi\u001b[0m\u001b[1;33m)\u001b[0m\u001b[1;33m)\u001b[0m\u001b[1;33m\u001b[0m\u001b[1;33m\u001b[0m\u001b[0m\n\u001b[0m\u001b[0;32m      4\u001b[0m \u001b[1;33m\u001b[0m\u001b[0m\n",
      "\u001b[1;31mTypeError\u001b[0m: 'int' object is not iterable"
     ]
    }
   ],
   "source": [
    "i=0\n",
    "for i in range(3):\n",
    "    print(list(i))\n",
    "    "
   ]
  },
  {
   "cell_type": "code",
   "execution_count": 22,
   "id": "40a78e7d",
   "metadata": {},
   "outputs": [
    {
     "name": "stdout",
     "output_type": "stream",
     "text": [
      "('suhas', 18)\n",
      "('manu', 16)\n",
      "('prajju', 22)\n",
      "{'suhas': 18, 'manu': 16, 'prajju': 22, 'pavan': 24}\n"
     ]
    }
   ],
   "source": [
    "names={'suhas':18,'manu':16,'prajju':22}\n",
    "#print(names)\n",
    "for i in names.items():\n",
    "    print(i)\n",
    "names['pavan']=24\n",
    "print(names)"
   ]
  },
  {
   "cell_type": "code",
   "execution_count": 26,
   "id": "1fc624a8",
   "metadata": {},
   "outputs": [
    {
     "data": {
      "text/plain": [
       "1"
      ]
     },
     "execution_count": 26,
     "metadata": {},
     "output_type": "execute_result"
    }
   ],
   "source": [
    "a='pavan'\n",
    "a.count('p')"
   ]
  },
  {
   "cell_type": "code",
   "execution_count": 39,
   "id": "7e6abbc7",
   "metadata": {},
   "outputs": [
    {
     "name": "stdout",
     "output_type": "stream",
     "text": [
      "300\n"
     ]
    }
   ],
   "source": [
    "a=[1,200,300,4,5]\n",
    "a.sort()\n",
    "print(a[-1])"
   ]
  },
  {
   "cell_type": "code",
   "execution_count": 58,
   "id": "8610d23f",
   "metadata": {},
   "outputs": [
    {
     "ename": "TypeError",
     "evalue": "Sorted() takes 0 positional arguments but 4 were given",
     "output_type": "error",
     "traceback": [
      "\u001b[1;31m---------------------------------------------------------------------------\u001b[0m",
      "\u001b[1;31mTypeError\u001b[0m                                 Traceback (most recent call last)",
      "\u001b[1;32m<ipython-input-58-653650f5b14e>\u001b[0m in \u001b[0;36m<module>\u001b[1;34m\u001b[0m\n\u001b[0;32m      2\u001b[0m         \u001b[0mSorted\u001b[0m\u001b[1;33m.\u001b[0m\u001b[0msort\u001b[0m\u001b[1;33m(\u001b[0m\u001b[1;33m)\u001b[0m\u001b[1;33m\u001b[0m\u001b[1;33m\u001b[0m\u001b[0m\n\u001b[0;32m      3\u001b[0m         \u001b[1;32mreturn\u001b[0m \u001b[0mSorted\u001b[0m\u001b[1;33m\u001b[0m\u001b[1;33m\u001b[0m\u001b[0m\n\u001b[1;32m----> 4\u001b[1;33m \u001b[0mSorted\u001b[0m\u001b[1;33m(\u001b[0m\u001b[1;36m1\u001b[0m\u001b[1;33m,\u001b[0m\u001b[1;36m2\u001b[0m\u001b[1;33m,\u001b[0m\u001b[1;36m3\u001b[0m\u001b[1;33m,\u001b[0m\u001b[1;36m45\u001b[0m\u001b[1;33m)\u001b[0m\u001b[1;33m\u001b[0m\u001b[1;33m\u001b[0m\u001b[0m\n\u001b[0m\u001b[0;32m      5\u001b[0m \u001b[1;31m#print(Sorted(a,b,c,d))\u001b[0m\u001b[1;33m\u001b[0m\u001b[1;33m\u001b[0m\u001b[1;33m\u001b[0m\u001b[0m\n",
      "\u001b[1;31mTypeError\u001b[0m: Sorted() takes 0 positional arguments but 4 were given"
     ]
    }
   ],
   "source": [
    "def Sorted():\n",
    "        Sorted.sort()\n",
    "        return Sorted\n",
    "Sorted(1,2,3,45)\n",
    "#print(Sorted(a,b,c,d))"
   ]
  },
  {
   "cell_type": "code",
   "execution_count": 70,
   "id": "ac43baf3",
   "metadata": {},
   "outputs": [
    {
     "ename": "AttributeError",
     "evalue": "'function' object has no attribute 'sort'",
     "output_type": "error",
     "traceback": [
      "\u001b[1;31m---------------------------------------------------------------------------\u001b[0m",
      "\u001b[1;31mAttributeError\u001b[0m                            Traceback (most recent call last)",
      "\u001b[1;32m<ipython-input-70-50e5c27fc149>\u001b[0m in \u001b[0;36m<module>\u001b[1;34m\u001b[0m\n\u001b[0;32m      1\u001b[0m \u001b[1;32mdef\u001b[0m \u001b[0mSort\u001b[0m\u001b[1;33m(\u001b[0m\u001b[0ma\u001b[0m\u001b[1;33m,\u001b[0m\u001b[0mb\u001b[0m\u001b[1;33m,\u001b[0m\u001b[0mc\u001b[0m\u001b[1;33m,\u001b[0m\u001b[0md\u001b[0m\u001b[1;33m)\u001b[0m\u001b[1;33m:\u001b[0m\u001b[1;33m\u001b[0m\u001b[1;33m\u001b[0m\u001b[0m\n\u001b[0;32m      2\u001b[0m     \u001b[1;32mreturn\u001b[0m \u001b[0mSort\u001b[0m\u001b[1;33m.\u001b[0m\u001b[0msort\u001b[0m\u001b[1;33m(\u001b[0m\u001b[1;33m)\u001b[0m\u001b[1;33m\u001b[0m\u001b[1;33m\u001b[0m\u001b[0m\n\u001b[1;32m----> 3\u001b[1;33m \u001b[0mprint\u001b[0m\u001b[1;33m(\u001b[0m\u001b[0mSort\u001b[0m\u001b[1;33m(\u001b[0m\u001b[1;36m1\u001b[0m\u001b[1;33m,\u001b[0m\u001b[1;36m2\u001b[0m\u001b[1;33m,\u001b[0m\u001b[1;36m3\u001b[0m\u001b[1;33m,\u001b[0m\u001b[1;36m4\u001b[0m\u001b[1;33m)\u001b[0m\u001b[1;33m)\u001b[0m\u001b[1;33m\u001b[0m\u001b[1;33m\u001b[0m\u001b[0m\n\u001b[0m\u001b[0;32m      4\u001b[0m \u001b[1;33m\u001b[0m\u001b[0m\n",
      "\u001b[1;32m<ipython-input-70-50e5c27fc149>\u001b[0m in \u001b[0;36mSort\u001b[1;34m(a, b, c, d)\u001b[0m\n\u001b[0;32m      1\u001b[0m \u001b[1;32mdef\u001b[0m \u001b[0mSort\u001b[0m\u001b[1;33m(\u001b[0m\u001b[0ma\u001b[0m\u001b[1;33m,\u001b[0m\u001b[0mb\u001b[0m\u001b[1;33m,\u001b[0m\u001b[0mc\u001b[0m\u001b[1;33m,\u001b[0m\u001b[0md\u001b[0m\u001b[1;33m)\u001b[0m\u001b[1;33m:\u001b[0m\u001b[1;33m\u001b[0m\u001b[1;33m\u001b[0m\u001b[0m\n\u001b[1;32m----> 2\u001b[1;33m     \u001b[1;32mreturn\u001b[0m \u001b[0mSort\u001b[0m\u001b[1;33m.\u001b[0m\u001b[0msort\u001b[0m\u001b[1;33m(\u001b[0m\u001b[1;33m)\u001b[0m\u001b[1;33m\u001b[0m\u001b[1;33m\u001b[0m\u001b[0m\n\u001b[0m\u001b[0;32m      3\u001b[0m \u001b[0mprint\u001b[0m\u001b[1;33m(\u001b[0m\u001b[0mSort\u001b[0m\u001b[1;33m(\u001b[0m\u001b[1;36m1\u001b[0m\u001b[1;33m,\u001b[0m\u001b[1;36m2\u001b[0m\u001b[1;33m,\u001b[0m\u001b[1;36m3\u001b[0m\u001b[1;33m,\u001b[0m\u001b[1;36m4\u001b[0m\u001b[1;33m)\u001b[0m\u001b[1;33m)\u001b[0m\u001b[1;33m\u001b[0m\u001b[1;33m\u001b[0m\u001b[0m\n\u001b[0;32m      4\u001b[0m \u001b[1;33m\u001b[0m\u001b[0m\n",
      "\u001b[1;31mAttributeError\u001b[0m: 'function' object has no attribute 'sort'"
     ]
    }
   ],
   "source": [
    "def Sort(a,b,c,d):\n",
    "    return Sort.sort()\n",
    "print(Sort(1,2,3,4))\n",
    "    "
   ]
  },
  {
   "cell_type": "code",
   "execution_count": 68,
   "id": "505de70d",
   "metadata": {},
   "outputs": [
    {
     "data": {
      "text/plain": [
       "5"
      ]
     },
     "execution_count": 68,
     "metadata": {},
     "output_type": "execute_result"
    }
   ],
   "source": [
    "def su(a,b):\n",
    "    return a+b\n",
    "su(2,3)"
   ]
  },
  {
   "cell_type": "code",
   "execution_count": 75,
   "id": "6689bec9",
   "metadata": {},
   "outputs": [
    {
     "name": "stdout",
     "output_type": "stream",
     "text": [
      "no\n",
      "<function number at 0x00000249244E5EE0>\n"
     ]
    }
   ],
   "source": [
    "def number(*a):\n",
    "    for i in a:\n",
    "        if i in range(3):\n",
    "            print(\"yes\")\n",
    "        else:\n",
    "            print(\"no\")\n",
    "    return number\n",
    "print(number(7))"
   ]
  },
  {
   "cell_type": "code",
   "execution_count": 80,
   "id": "e5ac4456",
   "metadata": {},
   "outputs": [
    {
     "ename": "AttributeError",
     "evalue": "'function' object has no attribute 'sort'",
     "output_type": "error",
     "traceback": [
      "\u001b[1;31m---------------------------------------------------------------------------\u001b[0m",
      "\u001b[1;31mAttributeError\u001b[0m                            Traceback (most recent call last)",
      "\u001b[1;32m<ipython-input-80-74f714778a14>\u001b[0m in \u001b[0;36m<module>\u001b[1;34m\u001b[0m\n\u001b[0;32m      1\u001b[0m \u001b[1;32mdef\u001b[0m \u001b[0mSort\u001b[0m\u001b[1;33m(\u001b[0m\u001b[1;33m*\u001b[0m\u001b[0ma\u001b[0m\u001b[1;33m)\u001b[0m\u001b[1;33m:\u001b[0m\u001b[1;33m\u001b[0m\u001b[1;33m\u001b[0m\u001b[0m\n\u001b[0;32m      2\u001b[0m     \u001b[1;32mreturn\u001b[0m \u001b[0mSort\u001b[0m\u001b[1;33m\u001b[0m\u001b[1;33m\u001b[0m\u001b[0m\n\u001b[1;32m----> 3\u001b[1;33m \u001b[0mprint\u001b[0m\u001b[1;33m(\u001b[0m\u001b[0mSort\u001b[0m\u001b[1;33m(\u001b[0m\u001b[1;33m[\u001b[0m\u001b[1;36m1\u001b[0m\u001b[1;33m,\u001b[0m\u001b[1;36m32\u001b[0m\u001b[1;33m,\u001b[0m\u001b[1;36m1\u001b[0m\u001b[1;33m]\u001b[0m\u001b[1;33m)\u001b[0m\u001b[1;33m.\u001b[0m\u001b[0msort\u001b[0m\u001b[1;33m(\u001b[0m\u001b[1;33m)\u001b[0m\u001b[1;33m)\u001b[0m\u001b[1;33m\u001b[0m\u001b[1;33m\u001b[0m\u001b[0m\n\u001b[0m",
      "\u001b[1;31mAttributeError\u001b[0m: 'function' object has no attribute 'sort'"
     ]
    }
   ],
   "source": [
    "def Sort(*a):\n",
    "    return Sort-\n",
    "print(Sort([1,32,1]).sort())"
   ]
  },
  {
   "cell_type": "code",
   "execution_count": 2,
   "id": "97d26ff5",
   "metadata": {},
   "outputs": [
    {
     "name": "stdout",
     "output_type": "stream",
     "text": [
      "[23, 223.121, 334, 1232]\n"
     ]
    }
   ],
   "source": [
    "l=[223.121,1232,23,334]\n",
    "l.sort()\n",
    "print(l)"
   ]
  },
  {
   "cell_type": "code",
   "execution_count": 16,
   "id": "04976cc0",
   "metadata": {},
   "outputs": [
    {
     "name": "stdout",
     "output_type": "stream",
     "text": [
      "<class 'pandas.core.series.Series'>    \n",
      " 0    1\n",
      "1    2\n",
      "2    3\n",
      "3    4\n",
      "dtype: int64\n"
     ]
    }
   ],
   "source": [
    "import pandas as pd\n",
    "num=pd.Series([1,2,3,4])\n",
    "print(type(num),\"   \\n\", num)"
   ]
  },
  {
   "cell_type": "code",
   "execution_count": 23,
   "id": "99e90c45",
   "metadata": {},
   "outputs": [
    {
     "name": "stdout",
     "output_type": "stream",
     "text": [
      "0     1\n",
      "1     a\n",
      "2     b\n",
      "3     c\n",
      "4    23\n",
      "dtype: object\n"
     ]
    }
   ],
   "source": [
    "import pandas as pd\n",
    "num=pd.Series(['1','a','b','c',23])\n",
    "print( num)"
   ]
  },
  {
   "cell_type": "code",
   "execution_count": 26,
   "id": "9b4e68bb",
   "metadata": {},
   "outputs": [
    {
     "name": "stdout",
     "output_type": "stream",
     "text": [
      "DatetimeIndex(['2021-01-02', '2021-01-03', '2021-01-04', '2021-01-05',\n",
      "               '2021-01-06', '2021-01-07', '2021-01-08', '2021-01-09',\n",
      "               '2021-01-10', '2021-01-11', '2021-01-12', '2021-01-13',\n",
      "               '2021-01-14', '2021-01-15', '2021-01-16', '2021-01-17',\n",
      "               '2021-01-18', '2021-01-19', '2021-01-20', '2021-01-21',\n",
      "               '2021-01-22', '2021-01-23', '2021-01-24', '2021-01-25',\n",
      "               '2021-01-26', '2021-01-27', '2021-01-28', '2021-01-29',\n",
      "               '2021-01-30', '2021-01-31', '2021-02-01', '2021-02-02',\n",
      "               '2021-02-03', '2021-02-04', '2021-02-05', '2021-02-06',\n",
      "               '2021-02-07', '2021-02-08', '2021-02-09', '2021-02-10',\n",
      "               '2021-02-11', '2021-02-12', '2021-02-13', '2021-02-14',\n",
      "               '2021-02-15', '2021-02-16', '2021-02-17', '2021-02-18',\n",
      "               '2021-02-19', '2021-02-20', '2021-02-21', '2021-02-22',\n",
      "               '2021-02-23', '2021-02-24', '2021-02-25', '2021-02-26',\n",
      "               '2021-02-27', '2021-02-28', '2021-03-01', '2021-03-02'],\n",
      "              dtype='datetime64[ns]', freq='D')\n"
     ]
    }
   ],
   "source": [
    "import pandas as pd\n",
    "num=pd.date_range(start='01-02-2021',end='03-02-2021')\n",
    "print(num)"
   ]
  },
  {
   "cell_type": "code",
   "execution_count": 27,
   "id": "d5519462",
   "metadata": {},
   "outputs": [
    {
     "name": "stdout",
     "output_type": "stream",
     "text": [
      "DatetimeIndex(['2021-01-02', '2021-01-03', '2021-01-04', '2021-01-05',\n",
      "               '2021-01-06', '2021-01-07', '2021-01-08', '2021-01-09',\n",
      "               '2021-01-10', '2021-01-11', '2021-01-12', '2021-01-13',\n",
      "               '2021-01-14', '2021-01-15', '2021-01-16', '2021-01-17',\n",
      "               '2021-01-18', '2021-01-19', '2021-01-20', '2021-01-21',\n",
      "               '2021-01-22', '2021-01-23', '2021-01-24', '2021-01-25',\n",
      "               '2021-01-26', '2021-01-27', '2021-01-28', '2021-01-29',\n",
      "               '2021-01-30', '2021-01-31', '2021-02-01', '2021-02-02',\n",
      "               '2021-02-03', '2021-02-04', '2021-02-05', '2021-02-06',\n",
      "               '2021-02-07', '2021-02-08', '2021-02-09', '2021-02-10',\n",
      "               '2021-02-11', '2021-02-12', '2021-02-13', '2021-02-14',\n",
      "               '2021-02-15', '2021-02-16', '2021-02-17', '2021-02-18',\n",
      "               '2021-02-19', '2021-02-20', '2021-02-21', '2021-02-22',\n",
      "               '2021-02-23', '2021-02-24', '2021-02-25', '2021-02-26',\n",
      "               '2021-02-27', '2021-02-28', '2021-03-01', '2021-03-02'],\n",
      "              dtype='datetime64[ns]', freq='D')\n"
     ]
    }
   ],
   "source": [
    "import pandas as pd\n",
    "num=pd.date_range('01-02-2021','03-02-2021')\n",
    "print(num)"
   ]
  },
  {
   "cell_type": "code",
   "execution_count": 32,
   "id": "458cef81",
   "metadata": {},
   "outputs": [
    {
     "name": "stdout",
     "output_type": "stream",
     "text": [
      "['ASdsad']\n"
     ]
    }
   ],
   "source": [
    "a=[\"ASdsad\"]\n",
    "b=a.copy()\n",
    "print(b)"
   ]
  },
  {
   "cell_type": "code",
   "execution_count": null,
   "id": "63ff4bd0",
   "metadata": {},
   "outputs": [],
   "source": [
    "\n",
    "Data Structure\tDimensions\tDescription\n",
    "Series\t1\t1D labeled homogeneous array, sizeimmutable.\n",
    "Data Frames\t2\tGeneral 2D labeled, size-mutable tabular structure with potentially heterogeneously typed columns.\n",
    "Panel\t3\tGeneral 3D labeled, size-mutable array."
   ]
  },
  {
   "cell_type": "code",
   "execution_count": 39,
   "id": "e484a6d0",
   "metadata": {},
   "outputs": [
    {
     "name": "stdout",
     "output_type": "stream",
     "text": [
      "(0, '1')\n",
      "(1, 'a')\n",
      "(2, 'b')\n",
      "(3, 'c')\n",
      "(4, 23)\n"
     ]
    }
   ],
   "source": [
    "import pandas as pd\n",
    "num=pd.Series(['1','a','b','c',23])\n",
    "for i in num.items():\n",
    "    print(i)"
   ]
  },
  {
   "cell_type": "code",
   "execution_count": 48,
   "id": "d14d7eaf",
   "metadata": {},
   "outputs": [
    {
     "name": "stdout",
     "output_type": "stream",
     "text": [
      "1    1\n",
      "2    2\n",
      "3    3\n",
      "4    4\n",
      "dtype: int64\n"
     ]
    }
   ],
   "source": [
    "import pandas as pd\n",
    "a=pd.Series([1,2,3,4],index=[1,2,3,4])\n",
    "print(a)"
   ]
  },
  {
   "cell_type": "code",
   "execution_count": 51,
   "id": "d0507609",
   "metadata": {},
   "outputs": [
    {
     "name": "stdout",
     "output_type": "stream",
     "text": [
      "10    1\n",
      "v     2\n",
      "12    3\n",
      "13    4\n",
      "dtype: int32\n"
     ]
    }
   ],
   "source": [
    "import pandas as pd\n",
    "import numpy as np\n",
    "a=np.array([1,2,3,4])\n",
    "data=pd.Series(a,index=[10,\"v\",12,13])\n",
    "print(data)"
   ]
  },
  {
   "cell_type": "code",
   "execution_count": 53,
   "id": "0d1ec828",
   "metadata": {},
   "outputs": [
    {
     "name": "stdout",
     "output_type": "stream",
     "text": [
      "1     1\n",
      "2    34\n",
      "dtype: int64\n"
     ]
    }
   ],
   "source": [
    "import pandas as pd\n",
    "import numpy as np\n",
    "a={1:1,2:34}\n",
    "data=pd.Series(a)\n",
    "print(data)"
   ]
  },
  {
   "cell_type": "code",
   "execution_count": 56,
   "id": "3b74849c",
   "metadata": {},
   "outputs": [
    {
     "name": "stdout",
     "output_type": "stream",
     "text": [
      "1    2.0\n",
      "3    NaN\n",
      "dtype: float64\n"
     ]
    }
   ],
   "source": [
    "import pandas as pd\n",
    "d=pd.Series({1:2,2:1},index=[1,3])\n",
    "print(d)"
   ]
  },
  {
   "cell_type": "code",
   "execution_count": 62,
   "id": "89de52b5",
   "metadata": {},
   "outputs": [
    {
     "name": "stdout",
     "output_type": "stream",
     "text": [
      "    name  year\n",
      "0  suhas  2000\n",
      "1   manu  2001\n"
     ]
    }
   ],
   "source": [
    "import pandas as pd\n",
    "df=pd.DataFrame({\"name\":['suhas','manu'],\"year\":[2000,2001],})\n",
    "print(df)"
   ]
  },
  {
   "cell_type": "code",
   "execution_count": 72,
   "id": "19859881",
   "metadata": {},
   "outputs": [
    {
     "name": "stdout",
     "output_type": "stream",
     "text": [
      "<bound method DataFrame.info of      Month  Temp\n",
      "0      jan    25\n",
      "1      feb    23\n",
      "2      mar    45>\n"
     ]
    }
   ],
   "source": [
    "import pandas as pd\n",
    "file=pd.read_csv(r\"C:\\Users\\Admin\\Desktop\\pavan\\Ignited tech\\simple.csv\")\n",
    "print(file.info)"
   ]
  },
  {
   "cell_type": "code",
   "execution_count": 73,
   "id": "e173b595",
   "metadata": {},
   "outputs": [
    {
     "name": "stdout",
     "output_type": "stream",
     "text": [
      "Mercury       0.3300\n",
      "Venus         4.8700\n",
      "Earth         5.9700\n",
      "Mars          0.6420\n",
      "jupiter    1898.0000\n",
      "Saturn      568.0000\n",
      "Uranus       86.8000\n",
      "Neptune     102.0000\n",
      "Plito         0.0146\n",
      "dtype: float64\n"
     ]
    }
   ],
   "source": [
    "import pandas as pd\n",
    "mass=pd.Series([0.33,4.87,5.97,0.642,1898,568,86.8,102,0.0146],index=['Mercury','Venus','Earth','Mars','jupiter','Saturn','Uranus','Neptune','Plito'])\n",
    "print(mass)"
   ]
  },
  {
   "cell_type": "code",
   "execution_count": 89,
   "id": "5c1256ac",
   "metadata": {},
   "outputs": [
    {
     "name": "stdout",
     "output_type": "stream",
     "text": [
      "Mercury       0.9900\n",
      "Venus        14.6100\n",
      "Earth        17.9100\n",
      "Mars          1.9260\n",
      "jupiter    5694.0000\n",
      "Saturn     1704.0000\n",
      "Uranus      260.4000\n",
      "Neptune     306.0000\n",
      "Plito         0.0438\n",
      "dtype: float64\n"
     ]
    }
   ],
   "source": [
    "print(mass*3)"
   ]
  },
  {
   "cell_type": "code",
   "execution_count": 93,
   "id": "e9ea56a6",
   "metadata": {},
   "outputs": [
    {
     "name": "stdout",
     "output_type": "stream",
     "text": [
      "True\n"
     ]
    }
   ],
   "source": [
    "print(mass.Mercury<0.9900)"
   ]
  },
  {
   "cell_type": "code",
   "execution_count": 2,
   "id": "b0f6decb",
   "metadata": {},
   "outputs": [
    {
     "name": "stdout",
     "output_type": "stream",
     "text": [
      "[[14 10 13]\n",
      " [13 10 13]\n",
      " [11 12 13]\n",
      " [11 13 11]]\n"
     ]
    }
   ],
   "source": [
    "import pandas as pd\n",
    "import numpy as np\n",
    "\n",
    "n=np.random.randint(10,15,(4,3))\n",
    "print(n)"
   ]
  },
  {
   "cell_type": "code",
   "execution_count": 4,
   "id": "ac08523c",
   "metadata": {},
   "outputs": [
    {
     "name": "stdout",
     "output_type": "stream",
     "text": [
      "    0   1   2\n",
      "0  14  10  13\n",
      "1  13  10  13\n",
      "2  11  12  13\n",
      "3  11  13  11\n"
     ]
    }
   ],
   "source": [
    "df=pd.DataFrame(n)\n",
    "print(df)"
   ]
  },
  {
   "cell_type": "code",
   "execution_count": null,
   "id": "1893e38f",
   "metadata": {},
   "outputs": [],
   "source": []
  }
 ],
 "metadata": {
  "kernelspec": {
   "display_name": "Python 3",
   "language": "python",
   "name": "python3"
  },
  "language_info": {
   "codemirror_mode": {
    "name": "ipython",
    "version": 3
   },
   "file_extension": ".py",
   "mimetype": "text/x-python",
   "name": "python",
   "nbconvert_exporter": "python",
   "pygments_lexer": "ipython3",
   "version": "3.8.8"
  }
 },
 "nbformat": 4,
 "nbformat_minor": 5
}
