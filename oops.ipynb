{
 "cells": [
  {
   "cell_type": "code",
   "execution_count": null,
   "metadata": {},
   "outputs": [],
   "source": [
    "                                            OOPs\n",
    "1.what is the use of data type ?\n",
    "    -->Memory allocation\n",
    "    -->Kind of operation"
   ]
  },
  {
   "cell_type": "code",
   "execution_count": 5,
   "metadata": {
    "scrolled": true
   },
   "outputs": [
    {
     "data": {
      "text/plain": [
       "['__abs__',\n",
       " '__add__',\n",
       " '__and__',\n",
       " '__bool__',\n",
       " '__ceil__',\n",
       " '__class__',\n",
       " '__delattr__',\n",
       " '__dir__',\n",
       " '__divmod__',\n",
       " '__doc__',\n",
       " '__eq__',\n",
       " '__float__',\n",
       " '__floor__',\n",
       " '__floordiv__',\n",
       " '__format__',\n",
       " '__ge__',\n",
       " '__getattribute__',\n",
       " '__getnewargs__',\n",
       " '__gt__',\n",
       " '__hash__',\n",
       " '__index__',\n",
       " '__init__',\n",
       " '__init_subclass__',\n",
       " '__int__',\n",
       " '__invert__',\n",
       " '__le__',\n",
       " '__lshift__',\n",
       " '__lt__',\n",
       " '__mod__',\n",
       " '__mul__',\n",
       " '__ne__',\n",
       " '__neg__',\n",
       " '__new__',\n",
       " '__or__',\n",
       " '__pos__',\n",
       " '__pow__',\n",
       " '__radd__',\n",
       " '__rand__',\n",
       " '__rdivmod__',\n",
       " '__reduce__',\n",
       " '__reduce_ex__',\n",
       " '__repr__',\n",
       " '__rfloordiv__',\n",
       " '__rlshift__',\n",
       " '__rmod__',\n",
       " '__rmul__',\n",
       " '__ror__',\n",
       " '__round__',\n",
       " '__rpow__',\n",
       " '__rrshift__',\n",
       " '__rshift__',\n",
       " '__rsub__',\n",
       " '__rtruediv__',\n",
       " '__rxor__',\n",
       " '__setattr__',\n",
       " '__sizeof__',\n",
       " '__str__',\n",
       " '__sub__',\n",
       " '__subclasshook__',\n",
       " '__truediv__',\n",
       " '__trunc__',\n",
       " '__xor__',\n",
       " 'bit_length',\n",
       " 'conjugate',\n",
       " 'denominator',\n",
       " 'from_bytes',\n",
       " 'imag',\n",
       " 'numerator',\n",
       " 'real',\n",
       " 'to_bytes']"
      ]
     },
     "execution_count": 5,
     "metadata": {},
     "output_type": "execute_result"
    }
   ],
   "source": [
    "a=5\n",
    "dir(a)\n"
   ]
  },
  {
   "cell_type": "code",
   "execution_count": null,
   "metadata": {},
   "outputs": [],
   "source": [
    "Create a Class"
   ]
  },
  {
   "cell_type": "code",
   "execution_count": null,
   "metadata": {},
   "outputs": [],
   "source": [
    "example:\n",
    "\n",
    "Car:\n",
    "    Name:\n",
    "    model:\n",
    "    engine:\n",
    "    fuel:\n",
    "\n",
    "Student:\n",
    "    Name:\n",
    "    DOB:\n",
    "    Place:\n",
    "    Parent's name:\n",
    "    School/College:\n",
    "    Age:\n"
   ]
  },
  {
   "cell_type": "code",
   "execution_count": 15,
   "metadata": {},
   "outputs": [
    {
     "name": "stdout",
     "output_type": "stream",
     "text": [
      "pavan hassan\n",
      "pavan hassan\n"
     ]
    }
   ],
   "source": [
    "class Student:\n",
    "    name=\"pavan\"\n",
    "    reg=1\n",
    "    place=\"hassan\"\n",
    "S1=Student()\n",
    "print(S1.name,S1.place)\n",
    "S2=Student()\n",
    "print(S1.name,S1.place)"
   ]
  },
  {
   "cell_type": "code",
   "execution_count": 21,
   "metadata": {},
   "outputs": [
    {
     "name": "stdout",
     "output_type": "stream",
     "text": [
      "pavan 1 hassan\n",
      "nayan 1 hassan\n"
     ]
    }
   ],
   "source": [
    "class Student:\n",
    "    #__init__ constructor\n",
    "    def __init__(self,name,reg,place):\n",
    "        self.name=name\n",
    "        self.reg=reg\n",
    "        self.place=place\n",
    "#Creating instance of class or objects of class\n",
    "S1=Student(\"pavan\",1,\"hassan\") \n",
    "print(S1.name,S1.reg,S1.place)\n",
    "\n",
    "S2=Student(\"nayan\",1,\"hassan\") \n",
    "print(S2.name,S2.reg,S2.place)"
   ]
  },
  {
   "cell_type": "code",
   "execution_count": 24,
   "metadata": {},
   "outputs": [
    {
     "name": "stdout",
     "output_type": "stream",
     "text": [
      "pavan 1 hassan IMG\n",
      "nayan 1 hassan\n",
      "pavan speaks kannada\n",
      "None\n"
     ]
    }
   ],
   "source": [
    "class Student:\n",
    "    Pic=\"IMG\"\n",
    "    #__init__ constructor\n",
    "    def __init__(self,name,reg,place):\n",
    "        self.name=name\n",
    "        self.reg=reg\n",
    "        self.place=place\n",
    "    def speaks(self,language):\n",
    "        self.language=language\n",
    "        print(f'{self.name} speaks{language}')\n",
    "        \n",
    "        \n",
    "        \n",
    "#Creating instance of class or objects of class\n",
    "S1=Student(\"pavan\",1,\"hassan\") \n",
    "print(S1.name,S1.reg,S1.place,S1.Pic)\n",
    "\n",
    "S2=Student(\"nayan\",1,\"hassan\") \n",
    "print(S2.name,S2.reg,S2.place)\n",
    "\n",
    "print(S1.speaks(' kannada'))"
   ]
  },
  {
   "cell_type": "code",
   "execution_count": null,
   "metadata": {},
   "outputs": [],
   "source": [
    "#person\n",
    "name\n",
    "gender\n",
    "age \n",
    "place\n",
    "phone\n",
    "\n",
    "speak()\n",
    "favorite()"
   ]
  },
  {
   "cell_type": "code",
   "execution_count": 1,
   "metadata": {},
   "outputs": [
    {
     "name": "stdout",
     "output_type": "stream",
     "text": [
      "pavan M 24 Hassan 9164310652\n"
     ]
    }
   ],
   "source": [
    "class person():\n",
    "    name=\"pavan\"\n",
    "    gender=\"M\"\n",
    "    age=24\n",
    "    place=\"Hassan\"\n",
    "    phone=\"9164310652\"\n",
    "    \n",
    "P1=person()\n",
    "print(P1.name,P1.gender,P1.age,P1.place,P1.phone)"
   ]
  },
  {
   "cell_type": "code",
   "execution_count": 2,
   "metadata": {},
   "outputs": [
    {
     "name": "stdout",
     "output_type": "stream",
     "text": [
      "Pavan M 24 Hassan 9164310652\n",
      "24 M Nuthan Hassan 9164310652\n",
      "Pavan speaks kannada\n",
      "None\n",
      "Nuthan,favourite is Mutton biriyani\n",
      "None\n"
     ]
    }
   ],
   "source": [
    "class person():\n",
    "    def __init__(self,name,gender,age,place,phone):\n",
    "        self.name=name\n",
    "        self.gender=gender\n",
    "        self.age=age\n",
    "        self.place=place\n",
    "        self.phone=phone\n",
    "        \n",
    "    def speaks(self,language):\n",
    "        print(f'{self.name} speaks{language}')\n",
    "    \n",
    "    def favourite(self,food):\n",
    "        print(f'{self.name},favourite{food}')\n",
    "\n",
    "P1=person(\"Pavan\",'M',24,\"Hassan\",9164310652)\n",
    "print(P1.name,P1.gender,P1.age,P1.place,P1.phone)\n",
    "\n",
    "Q1=person(\"Nuthan\",'M',24,\"Hassan\",9164310652)\n",
    "print(Q1.age,Q1.gender,Q1.name,Q1.place,Q1.phone)\n",
    "\n",
    "print(P1.speaks(\" kannada\"))\n",
    "\n",
    "print(Q1.favourite(\" is Mutton biriyani\"))"
   ]
  },
  {
   "cell_type": "code",
   "execution_count": 26,
   "metadata": {},
   "outputs": [
    {
     "name": "stdout",
     "output_type": "stream",
     "text": [
      "M speaks kannada\n",
      "M,favourite is mutton biriryani\n"
     ]
    }
   ],
   "source": [
    "class Emp(person):\n",
    "    \n",
    "    def __init__(self,name,age,gender,place,phone,emplyno,salary):\n",
    "        person.__init__(self,gender,name,place,phone,age)\n",
    "        self.emplyno=emplyno\n",
    "        self.salary=salary\n",
    "#         self.phone=phone\n",
    "emp1=Emp('pavan',24,'M',9164310652,\"Hassan\",123,27000)\n",
    "emp1.salary,emp1.emplyno,emp1.place\n",
    "emp1.speaks(\" kannada\")\n",
    "emp1.favourite(\" is mutton biriryani\")"
   ]
  },
  {
   "cell_type": "code",
   "execution_count": 22,
   "metadata": {},
   "outputs": [
    {
     "name": "stdout",
     "output_type": "stream",
     "text": [
      "nuthan 24 hassan\n",
      "24\n"
     ]
    }
   ],
   "source": [
    "class nuthan():\n",
    "    def __init__(self,name,age,place):\n",
    "        self.name=name\n",
    "        self.age=age\n",
    "        self.place=place\n",
    "n1=nuthan(\"nuthan\",24,\"hassan\")\n",
    "print(n1.name,n1.age,n1.place)\n",
    "\n",
    "\n",
    "class Kruthik(nuthan):\n",
    "    def __init__(self,friend,school,Class,name,age,place):\n",
    "        nuthan.__init__(self,name,age,place)\n",
    "        self.friend=friend\n",
    "        self.school=school\n",
    "        self.Class=Class\n",
    "        self.name=name\n",
    "K1=Kruthik(\"nuthan\",\"bgs\",\"10th\",\"nuthan\",24,\"hassan\")\n",
    "print(K1.age)"
   ]
  },
  {
   "cell_type": "code",
   "execution_count": 22,
   "metadata": {},
   "outputs": [
    {
     "name": "stdout",
     "output_type": "stream",
     "text": [
      "0\n",
      "1\n",
      "2\n",
      "3\n",
      "4\n",
      "5\n",
      "6\n",
      "7\n",
      "8\n",
      "9\n"
     ]
    },
    {
     "data": {
      "text/plain": [
       "'a'"
      ]
     },
     "execution_count": 22,
     "metadata": {},
     "output_type": "execute_result"
    }
   ],
   "source": [
    "def a():\n",
    "    b=range(10)\n",
    "    for i in b:\n",
    "        print(i)\n",
    "    return \"a\"\n",
    "a()"
   ]
  },
  {
   "cell_type": "code",
   "execution_count": 23,
   "metadata": {},
   "outputs": [
    {
     "name": "stdout",
     "output_type": "stream",
     "text": [
      "0\n",
      "1\n",
      "2\n",
      "3\n",
      "4\n",
      "5\n",
      "6\n",
      "7\n",
      "8\n",
      "9\n"
     ]
    },
    {
     "data": {
      "text/plain": [
       "50"
      ]
     },
     "execution_count": 23,
     "metadata": {},
     "output_type": "execute_result"
    }
   ],
   "source": [
    "def a():\n",
    "    b=range(10)\n",
    "    for i in b:\n",
    "        print(i)\n",
    "    return \"a\"\n",
    "a().__sizeof__()"
   ]
  },
  {
   "cell_type": "code",
   "execution_count": 1,
   "metadata": {},
   "outputs": [
    {
     "name": "stdout",
     "output_type": "stream",
     "text": [
      "aa\n",
      "bb\n"
     ]
    },
    {
     "data": {
      "text/plain": [
       "generator"
      ]
     },
     "execution_count": 1,
     "metadata": {},
     "output_type": "execute_result"
    }
   ],
   "source": [
    "def test():\n",
    "    print(\"aa\")\n",
    "    yield 1\n",
    "    print(\"bb\")\n",
    "    yield 2\n",
    "    print(\"cc\")\n",
    "    yield 3\n",
    "a=test()\n",
    "a.__next__()\n",
    "a.__next__()\n",
    "\n",
    "type(a)"
   ]
  },
  {
   "cell_type": "code",
   "execution_count": null,
   "metadata": {},
   "outputs": [],
   "source": [
    "#Userdefined errors\n"
   ]
  },
  {
   "cell_type": "code",
   "execution_count": 11,
   "metadata": {},
   "outputs": [
    {
     "name": "stdout",
     "output_type": "stream",
     "text": [
      "20\n",
      "not found\n"
     ]
    }
   ],
   "source": [
    "try:\n",
    "    a=10\n",
    "    b=10\n",
    "    print(a+b)\n",
    "    \n",
    "    f=open(\"xyz.txt\")\n",
    "except TypeError:\n",
    "    print(\"operations are allowed\")\n",
    "except FileNotFoundError:\n",
    "    print(\"not found\")\n",
    "except Exception as e:\n",
    "    print(e)"
   ]
  },
  {
   "cell_type": "code",
   "execution_count": 38,
   "metadata": {},
   "outputs": [
    {
     "name": "stdout",
     "output_type": "stream",
     "text": [
      "[1, 2, 3, 4, 5, 6]\n",
      "6\n",
      "5\n"
     ]
    }
   ],
   "source": [
    "abc=[1,2,3,4,4,5,6]\n",
    "print(list(set(abc))) #sorted\n",
    "\n",
    "first_highest=max(abc)\n",
    "print(first_highest)  #first highest\n",
    "\n",
    "abc.remove(first_highest)\n",
    "\n",
    "second_highest=max(abc) #second highest\n",
    "print(second_highest)"
   ]
  },
  {
   "cell_type": "code",
   "execution_count": 30,
   "metadata": {},
   "outputs": [],
   "source": [
    "#dir(abc)"
   ]
  },
  {
   "cell_type": "code",
   "execution_count": null,
   "metadata": {},
   "outputs": [],
   "source": []
  }
 ],
 "metadata": {
  "kernelspec": {
   "display_name": "Python 3",
   "language": "python",
   "name": "python3"
  },
  "language_info": {
   "codemirror_mode": {
    "name": "ipython",
    "version": 3
   },
   "file_extension": ".py",
   "mimetype": "text/x-python",
   "name": "python",
   "nbconvert_exporter": "python",
   "pygments_lexer": "ipython3",
   "version": "3.8.8"
  }
 },
 "nbformat": 4,
 "nbformat_minor": 2
}
